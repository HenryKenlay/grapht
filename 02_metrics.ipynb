{
 "cells": [
  {
   "cell_type": "code",
   "execution_count": null,
   "metadata": {},
   "outputs": [],
   "source": [
    "#hide\n",
    "%load_ext autoreload\n",
    "%autoreload 2"
   ]
  },
  {
   "cell_type": "code",
   "execution_count": null,
   "metadata": {},
   "outputs": [],
   "source": [
    "# default_exp metrics"
   ]
  },
  {
   "cell_type": "markdown",
   "metadata": {},
   "source": [
    "# Metrics\n",
    "\n",
    "> Metrics and norms"
   ]
  },
  {
   "cell_type": "code",
   "execution_count": null,
   "metadata": {},
   "outputs": [],
   "source": [
    "#export \n",
    "from nbdev.showdoc import *\n",
    "from grapht.graphtools import laplacian\n",
    "from functools import lru_cache\n",
    "import networkx as nx\n",
    "import numpy as np\n",
    "import scipy.sparse as sp"
   ]
  },
  {
   "cell_type": "markdown",
   "metadata": {},
   "source": [
    "## Norms"
   ]
  },
  {
   "cell_type": "markdown",
   "metadata": {},
   "source": [
    "Scipy doesnt have implementations for these norms "
   ]
  },
  {
   "cell_type": "code",
   "execution_count": null,
   "metadata": {},
   "outputs": [],
   "source": [
    "#export \n",
    "def sparse_2norm(A):\n",
    "    \"Returns the matrix 2-norm of a sparse matrix `A`\"\n",
    "    return np.abs(sp.linalg.eigsh(A, k=1, which='LM', return_eigenvectors=False))[0]\n",
    "\n",
    "def sparse_maxnorm(A):\n",
    "    \"Returns the max |A_ij| for a sparse matrix `A`\"\n",
    "    return max(-A.min(), A.max())"
   ]
  },
  {
   "cell_type": "markdown",
   "metadata": {},
   "source": [
    "## Metrics\n",
    "\n",
    "The Laplacian distance isnt a real metric but 🤷‍♂️"
   ]
  },
  {
   "cell_type": "code",
   "execution_count": null,
   "metadata": {},
   "outputs": [],
   "source": [
    "#export\n",
    "def laplacian_distance(G, Gp, setdiag=False):\n",
    "    \"Calculates $|| \\mathcal{L} -  \\mathcal{L}_p ||$ using the matrix 2-norm\"\n",
    "    L = laplacian(G, setdiag)\n",
    "    Lp = laplacian(Gp, setdiag)\n",
    "    E = Lp - L\n",
    "    return sparse_2norm(E)"
   ]
  },
  {
   "cell_type": "markdown",
   "metadata": {},
   "source": [
    "## Line distances"
   ]
  },
  {
   "cell_type": "markdown",
   "metadata": {},
   "source": [
    "This is used to calculate the distance between edges. The distances are cached"
   ]
  },
  {
   "cell_type": "code",
   "execution_count": null,
   "metadata": {},
   "outputs": [],
   "source": [
    "#export\n",
    "class LineDistances():\n",
    "    \n",
    "    def __init__(self, G):\n",
    "        self.G = G\n",
    "        self.line_graph = nx.line_graph(G)\n",
    "        \n",
    "    @lru_cache(maxsize=None)\n",
    "    def __call__(self, edge1, edge2):\n",
    "        return nx.shortest_path_length(self.line_graph, edge1, edge2)"
   ]
  },
  {
   "cell_type": "code",
   "execution_count": null,
   "metadata": {},
   "outputs": [
    {
     "name": "stdout",
     "output_type": "stream",
     "text": [
      "Converted 00_graphtools.ipynb.\n",
      "Converted 01_sampling.ipynb.\n",
      "Converted 02_metrics.ipynb.\n",
      "Converted 03_perturb.ipynb.\n",
      "Converted 04_plotting.ipynb.\n",
      "Converted 05_data.ipynb.\n",
      "Converted index.ipynb.\n"
     ]
    }
   ],
   "source": [
    "#hide\n",
    "from nbdev.export import notebook2script\n",
    "notebook2script()"
   ]
  }
 ],
 "metadata": {
  "kernelspec": {
   "display_name": "Python 3",
   "language": "python",
   "name": "python3"
  }
 },
 "nbformat": 4,
 "nbformat_minor": 4
}
