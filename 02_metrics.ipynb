{
 "cells": [
  {
   "cell_type": "code",
   "execution_count": null,
   "metadata": {},
   "outputs": [],
   "source": [
    "#hide\n",
    "%load_ext autoreload\n",
    "%autoreload 2"
   ]
  },
  {
   "cell_type": "code",
   "execution_count": null,
   "metadata": {},
   "outputs": [],
   "source": [
    "# default_exp metrics"
   ]
  },
  {
   "cell_type": "markdown",
   "metadata": {},
   "source": [
    "# Metrics\n",
    "\n",
    "> Metrics and norms"
   ]
  },
  {
   "cell_type": "code",
   "execution_count": null,
   "metadata": {},
   "outputs": [],
   "source": [
    "#export \n",
    "from nbdev.showdoc import *\n",
    "from grapht.graphtools import laplacian\n",
    "from functools import lru_cache\n",
    "from pathlib import Path\n",
    "import networkx as nx\n",
    "import numpy as np\n",
    "import scipy.sparse as sp"
   ]
  },
  {
   "cell_type": "markdown",
   "metadata": {},
   "source": [
    "## Norms"
   ]
  },
  {
   "cell_type": "markdown",
   "metadata": {},
   "source": [
    "Scipy doesnt have implementations for these norms "
   ]
  },
  {
   "cell_type": "code",
   "execution_count": null,
   "metadata": {},
   "outputs": [],
   "source": [
    "#export \n",
    "def sparse_norm(A, ord=2):\n",
    "    \"Like scipy.sparse.lingalg.norm but with 2 and max norm implemented\"\n",
    "    if ord == 2:\n",
    "        return sparse_2norm(A)\n",
    "    elif ord == 'max':\n",
    "        return sparse_maxnorm(A)\n",
    "    else:\n",
    "        return sp.linalg.norm(A, ord=ord)\n",
    "\n",
    "def sparse_2norm(A):\n",
    "    \"Returns the matrix 2-norm of a sparse matrix `A`\"\n",
    "    return np.abs(sp.linalg.eigsh(A, k=1, which='LM', return_eigenvectors=False))[0]\n",
    "\n",
    "def sparse_maxnorm(A):\n",
    "    \"Returns the max |A_ij| for a sparse matrix `A`\"\n",
    "    return max(-A.min(), A.max())"
   ]
  },
  {
   "cell_type": "markdown",
   "metadata": {},
   "source": [
    "## Metrics\n",
    "\n",
    "The Laplacian distance isnt a real metric but 🤷‍♂️"
   ]
  },
  {
   "cell_type": "code",
   "execution_count": null,
   "metadata": {},
   "outputs": [],
   "source": [
    "#export\n",
    "def laplacian_distance(G, Gp, setdiag=False):\n",
    "    \"Calculates $|| \\mathcal{L} -  \\mathcal{L}_p ||$ using the matrix 2-norm\"\n",
    "    L = laplacian(G, setdiag)\n",
    "    Lp = laplacian(Gp, setdiag)\n",
    "    E = Lp - L\n",
    "    return sparse_2norm(E)"
   ]
  },
  {
   "cell_type": "markdown",
   "metadata": {},
   "source": [
    "## Line distances"
   ]
  },
  {
   "cell_type": "markdown",
   "metadata": {},
   "source": [
    "This is used to calculate the distance between edges. The distances are cached"
   ]
  },
  {
   "cell_type": "code",
   "execution_count": null,
   "metadata": {},
   "outputs": [],
   "source": [
    "#export\n",
    "class LineDistances():\n",
    "    \n",
    "    def __init__(self, G):\n",
    "        self.G = G\n",
    "        self.line_graph = nx.line_graph(G)\n",
    "        \n",
    "    def __call__(self, edge1, edge2):\n",
    "        \"Calculating the linegraph distance between `edge1` and `edge2`\"\n",
    "        return nx.shortest_path_length(self.line_graph, edge1, edge2)\n",
    "    \n",
    "    def average_distance(self, edges):\n",
    "        \"Calculates the average linegraph distance between all pairs of edges in `edges`\"\n",
    "        distances = self.pairwise_distances(edges)\n",
    "        return np.mean(distances)\n",
    "    \n",
    "    def pairwise_distances(self, edges):\n",
    "        distances = []\n",
    "        for i in range(len(edges)):\n",
    "            for j in range(i+1, len(edges)):\n",
    "                distances.append(self(edges[i], edges[j]))\n",
    "        return distances\n",
    "    \n",
    "\n",
    "class LineDistancesDataset(LineDistances):\n",
    "    \n",
    "    def __init__(self, G, dataset):\n",
    "        super(LineDistancesDataset, self).__init__(G)\n",
    "        self.line_graph_nodes = list(self.line_graph.nodes())\n",
    "        self.dataset = dataset\n",
    "        self.load_dataset()\n",
    "    \n",
    "    def load_dataset(self):\n",
    "        fname = Path(__file__).parents[1].joinpath(f'data/{self.dataset}_linegraph_distances.npy')\n",
    "        #fname = f'data/{self.dataset}_linegraph_distances.npy'\n",
    "        self.all_path_lengths = np.load(open(fname, 'rb'))\n",
    "        \n",
    "    def __call__(self, edge1, edge2):\n",
    "        i, j = self.edge_index(edge1), self.edge_index(edge2)\n",
    "        return self.all_path_lengths[i, j]\n",
    "    \n",
    "    @lru_cache(maxsize=None)\n",
    "    def edge_index(self, edge):\n",
    "        return self.line_graph_nodes.index(edge)"
   ]
  },
  {
   "cell_type": "code",
   "execution_count": null,
   "metadata": {},
   "outputs": [],
   "source": [
    "#hide\n",
    "#from grapht.sampling import sample_edges\n",
    "#from grapht.data import get_benchmark\n",
    "#A, X, y = get_benchmark('cora')\n",
    "#G = nx.from_scipy_sparse_matrix(A)\n",
    "#ld = LineDistancesDataset(G, dataset='cora')\n",
    "#linegraph = nx.line_graph(G)\n",
    "#for _ in range(100):\n",
    "#    edge1, edge2 = sample_edges(G, 2)\n",
    "#    assert nx.shortest_path_length(linegraph, source=edge1, target=edge2) == int(ld(edge1, edge2))"
   ]
  },
  {
   "cell_type": "markdown",
   "metadata": {},
   "source": [
    "# Degree"
   ]
  },
  {
   "cell_type": "code",
   "execution_count": null,
   "metadata": {},
   "outputs": [],
   "source": [
    "#export\n",
    "def average_gmdegree(G, edges):\n",
    "    \"The average edge degree geometric mean over all edges in `edges`\"\n",
    "    return np.mean([edge_degree_gm(G, edge) for edge in edges])\n",
    "\n",
    "def edge_degree_gm(G, edge):\n",
    "    \"For an edge (u, v) with degree du, dv this function returns the geometric mean of du and dv\"\n",
    "    return np.sqrt(G.degree(edge[0]) * G.degree(edge[1]))"
   ]
  },
  {
   "cell_type": "code",
   "execution_count": null,
   "metadata": {},
   "outputs": [
    {
     "name": "stdout",
     "output_type": "stream",
     "text": [
      "Converted 00_graphtools.ipynb.\n",
      "Converted 01_sampling.ipynb.\n",
      "Converted 02_metrics.ipynb.\n",
      "Converted 03_perturb.ipynb.\n",
      "Converted 04_plotting.ipynb.\n",
      "Converted 05_data.ipynb.\n",
      "Converted index.ipynb.\n"
     ]
    }
   ],
   "source": [
    "#hide\n",
    "from nbdev.export import notebook2script\n",
    "notebook2script()"
   ]
  }
 ],
 "metadata": {
  "kernelspec": {
   "display_name": "Python 3",
   "language": "python",
   "name": "python3"
  }
 },
 "nbformat": 4,
 "nbformat_minor": 4
}
