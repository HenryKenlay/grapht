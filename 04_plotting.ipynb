{
 "cells": [
  {
   "cell_type": "code",
   "execution_count": null,
   "metadata": {},
   "outputs": [],
   "source": [
    "#hide\n",
    "%load_ext autoreload\n",
    "%autoreload 2\n",
    "%matplotlib inline"
   ]
  },
  {
   "cell_type": "code",
   "execution_count": null,
   "metadata": {},
   "outputs": [],
   "source": [
    "# default_exp plotting"
   ]
  },
  {
   "cell_type": "markdown",
   "metadata": {},
   "source": [
    "# Plotting\n",
    "\n",
    "> Plotting utilities"
   ]
  },
  {
   "cell_type": "code",
   "execution_count": null,
   "metadata": {},
   "outputs": [],
   "source": [
    "#export\n",
    "from nbdev.showdoc import *\n",
    "import matplotlib.pyplot as plt\n",
    "import networkx as nx\n",
    "import numpy as np\n",
    "import pandas as pd\n",
    "import seaborn as sns\n",
    "import graph_tool as gt\n",
    "import pyintergraph"
   ]
  },
  {
   "cell_type": "code",
   "execution_count": null,
   "metadata": {},
   "outputs": [],
   "source": [
    "#export\n",
    "def highlight_edges(G, edges, ax, pos, node_size=300):\n",
    "    \"Draws the graph G with edges in `edges` drawn in red\"\n",
    "    nx.draw_networkx_nodes(G, pos=pos, node_size=10, ax=ax)\n",
    "    nx.draw_networkx_edges(G, pos=pos, edgelist=set(G.edges()) - set(edges), ax=ax)\n",
    "    nx.draw_networkx_edges(G, pos=pos, edgelist=edges, ax=ax, edge_color='red')\n",
    "    ax.get_xaxis().set_visible(False)\n",
    "    ax.get_yaxis().set_visible(False)\n",
    "    return ax\n",
    "\n",
    "def highlight_edges_grapht(G, edges, pos):\n",
    "    \"G and pos need to be in graph_tool format\"\n",
    "    removed = G.new_edge_property('bool')\n",
    "    for edge in G.edges():\n",
    "        u, v = int(edge.source()), int(edge.target())\n",
    "        if (u, v) in edges or (v, u) in edges:\n",
    "            removed[edge]=True\n",
    "        else:\n",
    "            removed[edge]=False\n",
    "    gt.draw.graph_draw(G, pos, edge_color=removed)"
   ]
  },
  {
   "cell_type": "code",
   "execution_count": null,
   "metadata": {},
   "outputs": [],
   "source": [
    "#export\n",
    "def heatmap(df, x, y, hue, xbins=15, ybins=15, xlim=None, ylim=None, bin_numbers=False, bin_cutoff=1, rounding=3, ax=None, vmin=None, vmax=None, cbar=True):\n",
    "    \"\"\"\n",
    "        Plots a heatmap binning the df data based on columns x and y\n",
    "    \"\"\"\n",
    "    df = df.copy()\n",
    "    if ax is None:\n",
    "        fig, ax = plt.subplots()\n",
    "    if xlim is None:\n",
    "        xlim = (df[x].min(), df[x].max())\n",
    "    if ylim is None:\n",
    "        ylim = (df[y].min(), df[y].max())\n",
    "\n",
    "    xstep = (xlim[1]-xlim[0])/xbins\n",
    "    xbins = np.arange(xlim[0], xlim[1]+xstep, xstep)\n",
    "    df[x] = pd.cut(df[x], xbins).map(lambda x : x.mid)\n",
    "\n",
    "    ystep = (ylim[1]-ylim[0])/ybins\n",
    "    ybins = np.arange(ylim[0], ylim[1]+ystep, ystep)\n",
    "    df[y] = pd.cut(df[y], ybins).map(lambda y : y.mid)\n",
    "\n",
    "    heatmap_data = df.groupby([x, y]).mean()[hue].reset_index()\n",
    "    heatmap_data = heatmap_data.pivot(y, x, hue)\n",
    "\n",
    "    heatmap_count = df.groupby([x, y]).count()[hue].reset_index()\n",
    "    heatmap_count = heatmap_count.pivot(y, x, hue)\n",
    "    mask = heatmap_count < bin_cutoff\n",
    "    heatmap_count = heatmap_count.fillna(0).astype(int)\n",
    "    annot = heatmap_count if bin_numbers else None\n",
    "    \n",
    "    sns.heatmap(heatmap_data, ax = ax, cmap=\"YlGnBu\", mask=mask, annot=annot, vmin=vmin, vmax=vmax, cbar = cbar, fmt='d')\n",
    "    ax.set_xticklabels([round(float(item.get_text()), rounding) for item in ax.get_xticklabels()])\n",
    "    ax.set_yticklabels([round(float(item.get_text()), rounding) for item in ax.get_yticklabels()])\n",
    "    return ax"
   ]
  },
  {
   "cell_type": "markdown",
   "metadata": {},
   "source": [
    "# Layouts \n",
    "\n",
    "Gives layouts in `graph_tool` format, the functions can take either `graph_tool` or `networkx` graphs"
   ]
  },
  {
   "cell_type": "code",
   "execution_count": null,
   "metadata": {},
   "outputs": [],
   "source": [
    "#export \n",
    "def sfdp_layout(G):\n",
    "    G = get_graph_tool_graph(G)\n",
    "    pos = gt.draw.sfdp_layout(G)\n",
    "    return pos\n",
    "\n",
    "def neato_layout(G):\n",
    "    Gnx = get_networkx_graph(G)\n",
    "    pos = nx.drawing.nx_agraph.graphviz_layout(Gnx, prog='neato')\n",
    "    return nxpos_to_graphtpos(G, pos)\n",
    "\n",
    "def fdp_layout(G):\n",
    "    Gnx = get_networkx_graph(G)\n",
    "    pos = nx.drawing.nx_agraph.graphviz_layout(Gnx, prog='fdp')\n",
    "    return nxpos_to_graphtpos(G, pos)"
   ]
  },
  {
   "cell_type": "markdown",
   "metadata": {},
   "source": [
    "## Helper functions"
   ]
  },
  {
   "cell_type": "code",
   "execution_count": null,
   "metadata": {},
   "outputs": [],
   "source": [
    "#export \n",
    "\n",
    "def get_graph_tool_graph(G):\n",
    "    if 'networkx' in str(type(G)):\n",
    "        G = pyintergraph.nx2gt(G, labelname=\"node_label\")\n",
    "    return G\n",
    "\n",
    "def get_networkx_graph(G):\n",
    "    if 'graph_tool' in str(type(G)):\n",
    "        G = pyintergraph.gt2nx(G)\n",
    "    return G\n",
    "\n",
    "def nxpos_to_graphtpos(G, nx_pos):\n",
    "    \"\"\"\n",
    "        Takes a graph G (networkx or graph_tool) and a position dictionary and returns a graph_tool graph and VertexPropertyMap for plotting \n",
    "    \"\"\"\n",
    "    G = get_graph_tool_graph(G)\n",
    "    pos = G.new_vertex_property('vector<double>')\n",
    "    for i in nx_pos:\n",
    "        pos[i] = nx_pos[i]\n",
    "    return pos"
   ]
  },
  {
   "cell_type": "code",
   "execution_count": null,
   "metadata": {},
   "outputs": [],
   "source": [
    "#hide\n",
    "def grapht_from_sparse_array(A):\n",
    "    if sparse_is_symmetric(A):\n",
    "        return symmetric_grapht_from_sparse_array(A)\n",
    "    else:\n",
    "        pass\n",
    "\n",
    "def symmetric_grapht_from_sparse_array(A):\n",
    "    G = gt.Graph(directed=False)\n",
    "    edges = np.array(A.nonzero()).T\n",
    "    edges = edges[edges[:,0] <= edges[:,1]]\n",
    "    G.add_edge_list(edges)\n",
    "    return G\n",
    "\n",
    "def sparse_is_symmetric(A):\n",
    "    # solution taken from https://stackoverflow.com/a/30685839/2453167\n",
    "    if (A!=A.T).nnz == 0:\n",
    "        return True\n",
    "    else:\n",
    "        return False"
   ]
  },
  {
   "cell_type": "code",
   "execution_count": null,
   "metadata": {},
   "outputs": [
    {
     "name": "stdout",
     "output_type": "stream",
     "text": [
      "Converted 00_graphtools.ipynb.\n",
      "Converted 01_sampling.ipynb.\n",
      "Converted 02_metrics.ipynb.\n",
      "Converted 03_perturb.ipynb.\n",
      "Converted 04_plotting.ipynb.\n",
      "Converted 05_data.ipynb.\n",
      "Converted index.ipynb.\n"
     ]
    }
   ],
   "source": [
    "#hide\n",
    "from nbdev.export import notebook2script\n",
    "notebook2script()"
   ]
  }
 ],
 "metadata": {
  "kernelspec": {
   "display_name": "Python 3",
   "language": "python",
   "name": "python3"
  }
 },
 "nbformat": 4,
 "nbformat_minor": 4
}
