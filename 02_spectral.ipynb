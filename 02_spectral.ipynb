{
 "cells": [
  {
   "cell_type": "code",
   "execution_count": null,
   "metadata": {},
   "outputs": [],
   "source": [
    "%load_ext autoreload\n",
    "%autoreload 2"
   ]
  },
  {
   "cell_type": "code",
   "execution_count": null,
   "metadata": {},
   "outputs": [],
   "source": [
    "# default_exp spectral"
   ]
  },
  {
   "cell_type": "markdown",
   "metadata": {},
   "source": [
    "# Spectral\n",
    "\n",
    "> Functions related to spectral graph theory"
   ]
  },
  {
   "cell_type": "code",
   "execution_count": null,
   "metadata": {},
   "outputs": [],
   "source": [
    "#hide\n",
    "from nbdev.showdoc import *\n",
    "import networkx as nx"
   ]
  },
  {
   "cell_type": "markdown",
   "metadata": {},
   "source": [
    "## Normalised Laplacian matrix"
   ]
  },
  {
   "cell_type": "markdown",
   "metadata": {},
   "source": [
    "The normalised Laplacian of a graph $\\mathcal{G}$ is given by \n",
    "$$\\mathcal{L}(\\mathcal{G}) = \\begin{cases}\n",
    "1 & \\text{if }u=v \\text{ and } d_u > 0 \\\\\n",
    "\\frac{-1}{\\sqrt{d_ud_v}} & \\text{if }u \\sim v \\\\\n",
    "0 & otherwise\n",
    "\\end{cases}\n",
    "$$\n",
    "\n",
    "In this convention the diagonal entry is always $1$ unless the graph has isolated nodes in which case the entries are $0$ at those nodes. By setting `setdiag=True` then the diagonal entries will always be $1$ (even in the case of isolated nodes)"
   ]
  },
  {
   "cell_type": "code",
   "execution_count": null,
   "metadata": {},
   "outputs": [],
   "source": [
    "#export\n",
    "def laplacian(G, setdiag=False):\n",
    "    \"Laplacian matrix of the graph `G`\"\n",
    "    L = nx.normalized_laplacian_matrix(G)\n",
    "    if setdiag:\n",
    "        L.setdiag(1)\n",
    "    return L\n",
    "\n",
    "def laplacian_distance(G, Gp, setdiag=False):\n",
    "    \"Calculates $|| \\mathcal{L} -  \\mathcal{L}_p ||$ using the matrix 2-norm\"\n",
    "    L = laplacian(G, setdiag)\n",
    "    Lp = laplacian(Gp, setdiag)\n",
    "    E = Lp - L\n",
    "    return sparse_2norm(E)\n",
    "\n",
    "def sparse_2norm(A):\n",
    "    \"Returns the matrix 2-norm of a sparse matrix `A`\"\n",
    "    return np.abs(sp.linalg.eigsh(A, k=1, which='LM', return_eigenvectors=False))[0]"
   ]
  },
  {
   "cell_type": "code",
   "execution_count": null,
   "metadata": {},
   "outputs": [
    {
     "name": "stdout",
     "output_type": "stream",
     "text": [
      "Converted 00_graphtools.ipynb.\n",
      "Converted 01_sampling.ipynb.\n",
      "Converted 02_spectral.ipynb.\n",
      "Converted index.ipynb.\n"
     ]
    }
   ],
   "source": [
    "#hide\n",
    "from nbdev.export import notebook2script\n",
    "notebook2script()"
   ]
  },
  {
   "cell_type": "code",
   "execution_count": null,
   "metadata": {},
   "outputs": [],
   "source": []
  }
 ],
 "metadata": {
  "kernelspec": {
   "display_name": "Python 3",
   "language": "python",
   "name": "python3"
  }
 },
 "nbformat": 4,
 "nbformat_minor": 4
}
