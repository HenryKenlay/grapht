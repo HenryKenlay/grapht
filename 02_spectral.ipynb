{
 "cells": [
  {
   "cell_type": "code",
   "execution_count": null,
   "metadata": {},
   "outputs": [],
   "source": [
    "# default_exp spectral"
   ]
  },
  {
   "cell_type": "markdown",
   "metadata": {},
   "source": [
    "# Spectral graph theory tools\n",
    "\n",
    "> Functions related to spectral graph theory"
   ]
  },
  {
   "cell_type": "code",
   "execution_count": null,
   "metadata": {},
   "outputs": [],
   "source": [
    "#hide\n",
    "from nbdev.showdoc import *\n",
    "import networkx as nx"
   ]
  },
  {
   "cell_type": "markdown",
   "metadata": {},
   "source": [
    "## Normalised Laplacian matrix"
   ]
  },
  {
   "cell_type": "code",
   "execution_count": null,
   "metadata": {},
   "outputs": [],
   "source": [
    "#export\n",
    "\n",
    "def laplacian_distance(G, Gp, setdiag=False):\n",
    "    \"Calculates || L - Lp || using the matrix 2-norm\"\n",
    "    L = laplacian(G, setdiag)\n",
    "    Lp = laplacian(Gp, setdiag)\n",
    "    E = Lp - L\n",
    "    return sparse_2norm(E)\n",
    "\n",
    "def laplacian(G, setdiag=False):\n",
    "    \"Laplacian matrix of the graph `G`\"\n",
    "    L = nx.normalized_laplacian_matrix(G)\n",
    "    if setdiag:\n",
    "        L.setdiag(1)\n",
    "    return L\n",
    "\n",
    "def sparse_2norm(A):\n",
    "    \"Returns the matrix 2-norm of a sparse matrix `A`\"\n",
    "    return np.abs(sp.linalg.eigsh(A, k=1, which='LM', return_eigenvectors=False))[0]"
   ]
  }
 ],
 "metadata": {
  "kernelspec": {
   "display_name": "Python 3",
   "language": "python",
   "name": "python3"
  }
 },
 "nbformat": 4,
 "nbformat_minor": 4
}
