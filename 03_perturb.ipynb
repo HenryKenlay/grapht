{
 "cells": [
  {
   "cell_type": "code",
   "execution_count": null,
   "metadata": {},
   "outputs": [],
   "source": [
    "#hide\n",
    "%load_ext autoreload\n",
    "%autoreload 2\n",
    "%matplotlib inline"
   ]
  },
  {
   "cell_type": "code",
   "execution_count": null,
   "metadata": {},
   "outputs": [],
   "source": [
    "# default_exp perturb"
   ]
  },
  {
   "cell_type": "markdown",
   "metadata": {},
   "source": [
    "# Perturb\n",
    "\n",
    "> Functions for perturbing a graph "
   ]
  },
  {
   "cell_type": "markdown",
   "metadata": {},
   "source": [
    "## Edge deletions"
   ]
  },
  {
   "cell_type": "code",
   "execution_count": null,
   "metadata": {},
   "outputs": [],
   "source": [
    "#export \n",
    "from nbdev.showdoc import *\n",
    "import networkx as nx\n",
    "import numpy as np\n",
    "from grapht.graphtools import non_pendant_edges, has_isolated_nodes\n",
    "from grapht.sampling import khop_subgraph, sample_edges"
   ]
  },
  {
   "cell_type": "code",
   "execution_count": null,
   "metadata": {},
   "outputs": [],
   "source": [
    "#export \n",
    "def khop_edge_deletion(G, k, r):\n",
    "    \"\"\"\n",
    "    Removes r edges which are in a k-hop neighbourhood of some node, the perturbed graph will not have isolated nodes\n",
    "    \n",
    "    If k is None then the samples are taken uniformly\n",
    "    \"\"\"\n",
    "    solution = None\n",
    "    while solution is None:\n",
    "        subgraph, node = khop_subgraph(G, k) if k is not None else (G, None)\n",
    "        if len(non_pendant_edges(subgraph)) < r:\n",
    "            continue\n",
    "        edges = sample_edges(subgraph, r, non_pendant=True)\n",
    "        Gp = G.copy()\n",
    "        Gp.remove_edges_from(edges)\n",
    "        if not has_isolated_nodes(Gp):\n",
    "            solution = Gp\n",
    "    return solution, edges, node"
   ]
  },
  {
   "cell_type": "markdown",
   "metadata": {},
   "source": [
    "## Rewiring"
   ]
  },
  {
   "cell_type": "code",
   "execution_count": null,
   "metadata": {},
   "outputs": [],
   "source": [
    "#export\n",
    "def khop_rewire(G, k, r, max_iter=np.Inf):\n",
    "    \"\"\"Rewiring in a k-hop neighbourhood\"\"\"\n",
    "    solution, iteration = None, 0\n",
    "    while solution is None:\n",
    "        iteration = iteration + 1\n",
    "        if iteration == max_iter:\n",
    "            return None\n",
    "        subgraph, node = khop_subgraph(G, k) if k is not None else (G, None)\n",
    "        if len(subgraph.edges()) < r:\n",
    "            continue\n",
    "        edges = sample_edges(subgraph, r, non_pendant=False)\n",
    "        Gp = G.copy()\n",
    "        rewire_info = rewire(Gp, edges)\n",
    "        if not has_isolated_nodes(Gp):\n",
    "            solution = Gp\n",
    "    return solution, rewire_info, node \n",
    "        \n",
    "        \n",
    "def rewire(G, edges):\n",
    "    \"\"\"\n",
    "    Rewires edges in G. Each row in the returned array is (u ,v ,newv) where (u, v) was removed and (u, newv) was added\n",
    "    \"\"\"\n",
    "    G.remove_edges_from(edges)\n",
    "    edges = np.array(edges)\n",
    "    new_endpoints = np.random.permutation(edges[:, 1])\n",
    "    edges = np.concatenate([edges, np.expand_dims(new_endpoints, 1)], axis=1)\n",
    "    G.add_edges_from(edges[:,[0, 2]].tolist())\n",
    "    G.remove_edges_from(nx.selfloop_edges(G))\n",
    "    return edges"
   ]
  },
  {
   "cell_type": "code",
   "execution_count": null,
   "metadata": {},
   "outputs": [
    {
     "name": "stdout",
     "output_type": "stream",
     "text": [
      "Converted 00_graphtools.ipynb.\n",
      "Converted 01_sampling.ipynb.\n",
      "Converted 02_metrics.ipynb.\n",
      "Converted 03_perturb.ipynb.\n",
      "Converted 04_plotting.ipynb.\n",
      "Converted 05_data.ipynb.\n",
      "Converted index.ipynb.\n"
     ]
    }
   ],
   "source": [
    "#hide\n",
    "from nbdev.export import notebook2script\n",
    "notebook2script()"
   ]
  }
 ],
 "metadata": {
  "kernelspec": {
   "display_name": "Python 3",
   "language": "python",
   "name": "python3"
  }
 },
 "nbformat": 4,
 "nbformat_minor": 4
}
