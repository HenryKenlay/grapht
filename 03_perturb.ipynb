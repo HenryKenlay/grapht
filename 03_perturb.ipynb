{
 "cells": [
  {
   "cell_type": "code",
   "execution_count": null,
   "metadata": {},
   "outputs": [
    {
     "name": "stdout",
     "output_type": "stream",
     "text": [
      "The autoreload extension is already loaded. To reload it, use:\n",
      "  %reload_ext autoreload\n"
     ]
    }
   ],
   "source": [
    "#hide\n",
    "%load_ext autoreload\n",
    "%autoreload 2\n",
    "%matplotlib inline"
   ]
  },
  {
   "cell_type": "code",
   "execution_count": null,
   "metadata": {},
   "outputs": [],
   "source": [
    "# default_exp perturb"
   ]
  },
  {
   "cell_type": "markdown",
   "metadata": {},
   "source": [
    "# Perturb\n",
    "\n",
    "> Functions for perturbing a graph "
   ]
  },
  {
   "cell_type": "markdown",
   "metadata": {},
   "source": [
    "## Edge deletions"
   ]
  },
  {
   "cell_type": "code",
   "execution_count": null,
   "metadata": {},
   "outputs": [],
   "source": [
    "#export \n",
    "from nbdev.showdoc import *\n",
    "import networkx as nx\n",
    "from grapht.graphtools import non_pendant_edges\n",
    "from grapht.sampling import khop_subgraph, sample_edges"
   ]
  },
  {
   "cell_type": "code",
   "execution_count": null,
   "metadata": {},
   "outputs": [],
   "source": [
    "#export \n",
    "def khop_edge_deletion(G, k, r):\n",
    "    \"\"\"\n",
    "    Removes r edges which are in a k-hop neighbourhood of some node, the graph will remain connected\n",
    "    \"\"\"\n",
    "    solution = None\n",
    "    while solution is None:\n",
    "        subgraph = khop_subgraph(G, k)\n",
    "        if len(non_pendant_edges(subgraph)) < r:\n",
    "            continue\n",
    "        edges = sample_edges(subgraph, r, non_pendant=True)\n",
    "        Gp = G.copy()\n",
    "        Gp.remove_edges_from(edges)\n",
    "        if nx.is_connected(Gp):\n",
    "            solution = Gp\n",
    "    return solution"
   ]
  },
  {
   "cell_type": "markdown",
   "metadata": {},
   "source": [
    "The below example shows how the edges are localised using different values of $k$"
   ]
  },
  {
   "cell_type": "code",
   "execution_count": null,
   "metadata": {},
   "outputs": [],
   "source": [
    "#hide\n",
    "import warnings\n",
    "import matplotlib as mpl\n",
    "warnings.filterwarnings(\"ignore\", category=mpl.cbook.MatplotlibDeprecationWarning)"
   ]
  },
  {
   "cell_type": "code",
   "execution_count": null,
   "metadata": {},
   "outputs": [
    {
     "data": {
      "text/plain": [
       "<Figure size 1600x500 with 4 Axes>"
      ]
     },
     "metadata": {},
     "output_type": "display_data"
    }
   ],
   "source": [
    "import matplotlib.pyplot as plt\n",
    "from grapht.data import make_planar_graph\n",
    "from grapht.plotting import highlight_edges\n",
    "\n",
    "fig, axs = plt.subplots(1, 4, figsize=(16, 5))\n",
    "G, pos = make_planar_graph(200)\n",
    "\n",
    "for k in [1, 2, 3, 4]:    \n",
    "    Gp = khop_edge_deletion(G, k, 15)\n",
    "    edges_removed = set(G.edges()) - set(Gp.edges())\n",
    "    highlight_edges(G, edges_removed, axs[k-1], pos)\n",
    "    axs[k-1].set(title=f'k={k}', xticks=[], yticks=[])\n",
    "plt.show()"
   ]
  },
  {
   "cell_type": "code",
   "execution_count": null,
   "metadata": {},
   "outputs": [
    {
     "name": "stdout",
     "output_type": "stream",
     "text": [
      "Converted 00_graphtools.ipynb.\n",
      "Converted 01_sampling.ipynb.\n",
      "Converted 02_spectral.ipynb.\n",
      "Converted 03_perturb.ipynb.\n",
      "Converted 04_plotting.ipynb.\n",
      "Converted 05_data.ipynb.\n",
      "Converted index.ipynb.\n"
     ]
    }
   ],
   "source": [
    "#hide\n",
    "from nbdev.export import notebook2script\n",
    "notebook2script()"
   ]
  }
 ],
 "metadata": {
  "kernelspec": {
   "display_name": "Python 3",
   "language": "python",
   "name": "python3"
  }
 },
 "nbformat": 4,
 "nbformat_minor": 4
}
