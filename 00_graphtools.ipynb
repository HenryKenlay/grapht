{
 "cells": [
  {
   "cell_type": "code",
   "execution_count": null,
   "metadata": {},
   "outputs": [],
   "source": [
    "#hide \n",
    "%load_ext autoreload\n",
    "%autoreload 2"
   ]
  },
  {
   "cell_type": "code",
   "execution_count": null,
   "metadata": {},
   "outputs": [],
   "source": [
    "# default_exp graphtools"
   ]
  },
  {
   "cell_type": "markdown",
   "metadata": {},
   "source": [
    "# Graph tools\n",
    "\n",
    "> Functions for general graph manipulation and property checking"
   ]
  },
  {
   "cell_type": "code",
   "execution_count": null,
   "metadata": {},
   "outputs": [],
   "source": [
    "#export \n",
    "from nbdev.showdoc import *\n",
    "import networkx as nx\n",
    "import warnings\n",
    "import scipy.sparse as sp"
   ]
  },
  {
   "cell_type": "markdown",
   "metadata": {},
   "source": [
    "## Utilities"
   ]
  },
  {
   "cell_type": "code",
   "execution_count": null,
   "metadata": {},
   "outputs": [],
   "source": [
    "#export\n",
    "def non_pendant_edges(G):\n",
    "    \"Returns all non pendant edges of a graph `G`\"\n",
    "    edges = list(G.edges())\n",
    "    edges = [edge for edge in edges if not is_pendant(G, edge)]\n",
    "    return edges\n",
    "\n",
    "def is_pendant(G, edge):\n",
    "    \"Checks if `edge` is pendant in the graph `G`\"\n",
    "    if G.degree(edge[0]) == 1 or G.degree(edge[1]) == 1:\n",
    "        return True\n",
    "    else:\n",
    "        return False\n",
    "\n",
    "def has_isolated_nodes(G):\n",
    "    \"Checks if the graph `G` has isolated nodes\"\n",
    "    if len(list(nx.isolates(G))) > 0:\n",
    "        return True\n",
    "    else:\n",
    "        return False\n",
    "    \n",
    "def edges_removed(G, Gp):\n",
    "    \"If Gp is made by removing edges from G this method will return a list of those edges\"\n",
    "    return list(set(G.edges()) - set(Gp.edges()))"
   ]
  },
  {
   "cell_type": "markdown",
   "metadata": {},
   "source": [
    "## Spectral"
   ]
  },
  {
   "cell_type": "markdown",
   "metadata": {},
   "source": [
    "The normalised Laplacian of a graph $\\mathcal{G}$ is given by \n",
    "$$\\mathcal{L}(\\mathcal{G}) = \\begin{cases}\n",
    "1 & \\text{if }u=v \\text{ and } d_u > 0 \\\\\n",
    "\\frac{-1}{\\sqrt{d_ud_v}} & \\text{if }u \\sim v \\\\\n",
    "0 & otherwise\n",
    "\\end{cases}\n",
    "$$\n",
    "\n",
    "In this convention the diagonal entry is always $1$ unless the graph has isolated nodes in which case the entries are $0$ at those nodes. By setting `setdiag=True` then the diagonal entries will always be $1$ (even in the case of isolated nodes)"
   ]
  },
  {
   "cell_type": "code",
   "execution_count": null,
   "metadata": {},
   "outputs": [],
   "source": [
    "#export \n",
    "def laplacian(G, setdiag=False):\n",
    "    \"Laplacian matrix of the graph `G`\"\n",
    "    L = nx.normalized_laplacian_matrix(G)\n",
    "    if setdiag:\n",
    "        with warnings.catch_warnings():\n",
    "            warnings.simplefilter(\"ignore\")\n",
    "            L.setdiag(1)\n",
    "    return L"
   ]
  },
  {
   "cell_type": "code",
   "execution_count": null,
   "metadata": {},
   "outputs": [],
   "source": [
    "#hide \n",
    "\n",
    "## tests\n",
    "import networkx as nx\n",
    "import numpy as np\n",
    "\n",
    "G = nx.barabasi_albert_graph(100, 2)\n",
    "G.add_edge(0, 1) # the initial condition of BA(n, 2) means it can have pendant edges, this stops that happening\n",
    "G_with_pendant = G.copy()\n",
    "G_with_pendant.add_node(100)\n",
    "G_with_pendant.add_edge(0, 100)\n",
    "G_with_isolate = G.copy()\n",
    "G_with_isolate.add_node(100)\n",
    "\n",
    "# testing non_pendant_edges\n",
    "assert non_pendant_edges(G) == list(G.edges())\n",
    "assert non_pendant_edges(G_with_isolate) == list(G_with_isolate.edges())\n",
    "assert non_pendant_edges(G_with_pendant) != list(G_with_pendant.edges())\n",
    "assert set(G_with_pendant.edges()) - set(non_pendant_edges(G_with_pendant)) == {(0, 100)}\n",
    "\n",
    "# testing is_pendant\n",
    "assert is_pendant(G_with_pendant, (0, 100))\n",
    "assert is_pendant(G_with_pendant, (100, 0))\n",
    "assert np.sum([is_pendant(G, edge) for edge in G.edges()]) == 0\n",
    "assert np.sum([is_pendant(G_with_isolate, edge) for edge in G.edges()]) == 0\n",
    "assert np.sum([is_pendant(G_with_pendant, edge) for edge in G_with_pendant.edges()]) == 1\n",
    "\n",
    "# testing has_isolated_nodes\n",
    "assert not has_isolated_nodes(G)\n",
    "assert not has_isolated_nodes(G_with_pendant)\n",
    "assert has_isolated_nodes(G_with_isolate)\n",
    "\n",
    "# testing edges_removed\n",
    "G_with_edge = nx.Graph()\n",
    "G_with_edge.add_nodes_from([0, 1])\n",
    "G_no_edge = G_with_edge.copy()\n",
    "G_with_edge.add_edge(0, 1)\n",
    "assert edges_removed(G_with_edge, G_no_edge) == [(0, 1)]\n",
    "assert edges_removed(G_no_edge, G_with_edge) == []\n",
    "\n",
    "# testing laplacian\n",
    "G = nx.Graph()\n",
    "G.add_nodes_from([0, 1, 2, 3])\n",
    "G.add_edges_from([(0, 1), (1, 2), (2, 3), (1, 3)])\n",
    "L = laplacian(G)\n",
    "L_manual = np.eye(4)\n",
    "L_manual[0][1] = L_manual[1][0] = -1/np.sqrt(3) #edge 0 -- 1\n",
    "L_manual[1][2] = L_manual[2][1] = -1/np.sqrt(6) #edge 1 -- 2\n",
    "L_manual[1][3] = L_manual[3][1] = -1/np.sqrt(6) #edge 1 -- 3\n",
    "L_manual[2][3] = L_manual[3][2] = -1/np.sqrt(4) #edge 2 -- 3\n",
    "assert np.allclose(L_manual, L.todense())\n",
    "\n",
    "# isolated node case\n",
    "G.remove_edge(0, 1)\n",
    "L = laplacian(G)\n",
    "L_manual[0][0] = 0\n",
    "L_manual[0][1] = L_manual[1][0] = 0 #edge 0 -- 1\n",
    "L_manual[1][2] = L_manual[2][1] = -1/np.sqrt(4) #edge 1 -- 2\n",
    "L_manual[1][3] = L_manual[3][1] = -1/np.sqrt(4) #edge 1 -- 3\n",
    "assert np.allclose(L_manual, L.todense())\n",
    "\n",
    "# isolated node but with diag set to 1\n",
    "L = laplacian(G, setdiag=True)\n",
    "L_manual[0][0] = 1\n",
    "assert np.allclose(L_manual, L.todense())"
   ]
  },
  {
   "cell_type": "code",
   "execution_count": null,
   "metadata": {},
   "outputs": [
    {
     "name": "stdout",
     "output_type": "stream",
     "text": [
      "Converted 00_graphtools.ipynb.\n",
      "Converted 01_sampling.ipynb.\n",
      "Converted 02_metrics.ipynb.\n",
      "Converted 03_perturb.ipynb.\n",
      "Converted 04_plotting.ipynb.\n",
      "Converted 05_data.ipynb.\n",
      "Converted index.ipynb.\n"
     ]
    }
   ],
   "source": [
    "#hide\n",
    "from nbdev.export import notebook2script\n",
    "notebook2script()"
   ]
  }
 ],
 "metadata": {
  "kernelspec": {
   "display_name": "Python 3",
   "language": "python",
   "name": "python3"
  }
 },
 "nbformat": 4,
 "nbformat_minor": 4
}
