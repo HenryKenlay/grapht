{
 "cells": [
  {
   "cell_type": "code",
   "execution_count": null,
   "metadata": {},
   "outputs": [],
   "source": [
    "from gnnbench.data.io import load_dataset\n",
    "from tqdm.notebook import tqdm\n",
    "from grapht.metrics import all_pairs_path_length\n",
    "import numpy as np\n",
    "import networkx as nx\n",
    "import pandas as pd\n",
    "import pickle"
   ]
  },
  {
   "cell_type": "markdown",
   "metadata": {},
   "source": [
    "# Export Data\n",
    "Process data using gnnbench and saves it. Eventually will add this functionality to the data submodule"
   ]
  },
  {
   "cell_type": "code",
   "execution_count": null,
   "metadata": {},
   "outputs": [],
   "source": [
    "def gnnbench_data(name):\n",
    "    G = load_dataset(f'data/{name}')\n",
    "    G.standardize()\t\n",
    "    A, X, y = G.unpack()\t\n",
    "    return A, X, y"
   ]
  },
  {
   "cell_type": "code",
   "execution_count": null,
   "metadata": {},
   "outputs": [],
   "source": [
    "datasets = ['cora', 'citeseer', 'pubmed']\n",
    "for dataset in datasets:\n",
    "    A, X, y = gnnbench_data(dataset)\n",
    "    np.savez(f'data/{dataset}_gnnbench', A=A, X=X, y=y)\n",
    "    \n",
    "datasets = ['amazon_electronics_photo', 'amazon_electronics_computers']\n",
    "for dataset in datasets:\n",
    "    A, X, y = gnnbench_data(dataset)\n",
    "    np.savez(f'data/{dataset}_gnnbench', A=A, X=X, y=y)\n",
    "    \n",
    "datasets = ['ms_academic_cs', 'ms_academic_phy']\n",
    "for dataset in datasets:\n",
    "    A, X, y = gnnbench_data(dataset)\n",
    "    np.savez(f'data/{dataset}_gnnbench', A=A, X=X, y=y)"
   ]
  },
  {
   "cell_type": "markdown",
   "metadata": {},
   "source": [
    "## Data information"
   ]
  },
  {
   "cell_type": "code",
   "execution_count": null,
   "metadata": {},
   "outputs": [],
   "source": [
    "all_datasets = ['cora', 'citeseer', 'pubmed', 'amazon_electronics_photo', 'amazon_electronics_computers', 'ms_academic_cs', 'ms_academic_phy']\n",
    "data = []\n",
    "for dataset in all_datasets:\n",
    "    A, X, y = gnnbench_data(dataset)\n",
    "    G = nx.from_scipy_sparse_matrix(A)\n",
    "    n, d = X.shape\n",
    "    no_classes = len(np.unique(y))\n",
    "    data.append([dataset, G.number_of_nodes(),  G.number_of_edges(), d, no_classes])\n",
    "df = pd.DataFrame(data, columns = ['dataset', 'nodes', 'edges', 'signal dimension', 'classes'])\n",
    "print(df.sort_values('nodes'))"
   ]
  },
  {
   "cell_type": "markdown",
   "metadata": {},
   "source": [
    "# Linegraph path lengths\n",
    "\n",
    "This is used to make processing lengths in the linegraph faster by caching all distances. Cora takes about 30s, citeseer 60s and pubmed takes at least 1 hour 36 minutes "
   ]
  },
  {
   "cell_type": "code",
   "execution_count": null,
   "metadata": {},
   "outputs": [],
   "source": [
    "import scipy.sparse as sp\n",
    "from timebudget import timebudget\n"
   ]
  },
  {
   "cell_type": "code",
   "execution_count": null,
   "metadata": {},
   "outputs": [
    {
     "name": "stdout",
     "output_type": "stream",
     "text": [
      "(5069, 5069)\n",
      "cora took 14.772sec\n"
     ]
    }
   ],
   "source": [
    "dataset = 'cora'\n",
    "A, X, y = gnnbench_data(dataset)\n",
    "G = nx.from_scipy_sparse_matrix(A)\n",
    "G = nx.line_graph(G)\n",
    "A = nx.to_scipy_sparse_matrix(G)\n",
    "with timebudget(dataset):\n",
    "    D = sp.csgraph.dijkstra(A)\n",
    "    print(D.shape)\n",
    "np.save(f'data/{dataset}_linegraph_distances', D)"
   ]
  },
  {
   "cell_type": "code",
   "execution_count": null,
   "metadata": {},
   "outputs": [],
   "source": [
    "G.nodes()"
   ]
  },
  {
   "cell_type": "code",
   "execution_count": null,
   "metadata": {},
   "outputs": [],
   "source": []
  }
 ],
 "metadata": {
  "kernelspec": {
   "display_name": "Python 3",
   "language": "python",
   "name": "python3"
  }
 },
 "nbformat": 4,
 "nbformat_minor": 4
}
