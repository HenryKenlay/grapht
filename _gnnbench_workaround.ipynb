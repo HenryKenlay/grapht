{
 "cells": [
  {
   "cell_type": "markdown",
   "metadata": {},
   "source": [
    "# Export Data\n",
    "Process data using gnnbench and saves it. Eventually will add this functionality to the data submodule"
   ]
  },
  {
   "cell_type": "code",
   "execution_count": null,
   "metadata": {},
   "outputs": [
    {
     "name": "stderr",
     "output_type": "stream",
     "text": [
      "/anaconda3/lib/python3.7/site-packages/sklearn/utils/__init__.py:4: DeprecationWarning: Using or importing the ABCs from 'collections' instead of from 'collections.abc' is deprecated, and in 3.8 it will stop working\n",
      "  from collections import Sequence\n"
     ]
    }
   ],
   "source": [
    "from gnnbench.data.io import load_dataset\n",
    "import numpy as np\n",
    "import networkx as nx\n",
    "import pandas as pd"
   ]
  },
  {
   "cell_type": "code",
   "execution_count": null,
   "metadata": {},
   "outputs": [],
   "source": [
    "def gnnbench_data(name):\n",
    "    G = load_dataset(f'data/{name}')\n",
    "    G.standardize()\t\n",
    "    A, X, y = G.unpack()\t\n",
    "    return A, X, y"
   ]
  },
  {
   "cell_type": "markdown",
   "metadata": {},
   "source": [
    "## Citation networks"
   ]
  },
  {
   "cell_type": "code",
   "execution_count": null,
   "metadata": {},
   "outputs": [],
   "source": [
    "datasets = ['cora', 'citeseer', 'pubmed']\n",
    "for dataset in datasets:\n",
    "    A, X, y = gnnbench_data(dataset)\n",
    "    np.savez(f'data/{dataset}_gnnbench', A=A, X=X, y=y)"
   ]
  },
  {
   "cell_type": "markdown",
   "metadata": {},
   "source": [
    "## Amazon"
   ]
  },
  {
   "cell_type": "code",
   "execution_count": null,
   "metadata": {},
   "outputs": [],
   "source": [
    "datasets = ['amazon_electronics_photo', 'amazon_electronics_computers']\n",
    "for dataset in datasets:\n",
    "    A, X, y = gnnbench_data(dataset)\n",
    "    np.savez(f'data/{dataset}_gnnbench', A=A, X=X, y=y)"
   ]
  },
  {
   "cell_type": "code",
   "execution_count": null,
   "metadata": {},
   "outputs": [],
   "source": [
    "datasets = ['ms_academic_cs', 'ms_academic_phy']\n",
    "for dataset in datasets:\n",
    "    A, X, y = gnnbench_data(dataset)\n",
    "    np.savez(f'data/{dataset}_gnnbench', A=A, X=X, y=y)"
   ]
  },
  {
   "cell_type": "markdown",
   "metadata": {},
   "source": [
    "# Data information"
   ]
  },
  {
   "cell_type": "code",
   "execution_count": null,
   "metadata": {},
   "outputs": [
    {
     "name": "stdout",
     "output_type": "stream",
     "text": [
      "                        dataset  nodes  edges  classes\n",
      "1                      citeseer   2110   3703        6\n",
      "0                          cora   2485   1433        7\n",
      "3      amazon_electronics_photo   7487    745        8\n",
      "4  amazon_electronics_computers  13381    767       10\n",
      "5                ms_academic_cs  18333   6805       15\n",
      "2                        pubmed  19717    500        3\n",
      "6               ms_academic_phy  34493   8415        5\n"
     ]
    }
   ],
   "source": [
    "all_datasets = ['cora', 'citeseer', 'pubmed', 'amazon_electronics_photo', 'amazon_electronics_computers', 'ms_academic_cs', 'ms_academic_phy']\n",
    "data = []\n",
    "for dataset in all_datasets:\n",
    "    A, X, y = gnnbench_data(dataset)\n",
    "    n, d = X.shape\n",
    "    no_classes = len(np.unique(y))\n",
    "    data.append([dataset, n, d, no_classes])\n",
    "df = pd.DataFrame(data, columns = ['dataset', 'nodes', 'edges', 'classes'])\n",
    "print(df.sort_values('nodes'))"
   ]
  }
 ],
 "metadata": {
  "kernelspec": {
   "display_name": "Python 3",
   "language": "python",
   "name": "python3"
  }
 },
 "nbformat": 4,
 "nbformat_minor": 4
}
