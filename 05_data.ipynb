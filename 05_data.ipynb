{
 "cells": [
  {
   "cell_type": "code",
   "execution_count": null,
   "metadata": {},
   "outputs": [],
   "source": [
    "#hide\n",
    "%load_ext autoreload\n",
    "%autoreload 2"
   ]
  },
  {
   "cell_type": "code",
   "execution_count": null,
   "metadata": {},
   "outputs": [],
   "source": [
    "# default_exp data"
   ]
  },
  {
   "cell_type": "markdown",
   "metadata": {},
   "source": [
    "# Data\n",
    "\n",
    "> Utilities for retrieving benchmarks and generating random graphs"
   ]
  },
  {
   "cell_type": "code",
   "execution_count": null,
   "metadata": {},
   "outputs": [],
   "source": [
    "#export \n",
    "from nbdev.showdoc import *\n",
    "import numpy as np\n",
    "import networkx as nx\n",
    "import scipy\n",
    "from pathlib import Path"
   ]
  },
  {
   "cell_type": "markdown",
   "metadata": {},
   "source": [
    "## Benchmarks"
   ]
  },
  {
   "cell_type": "code",
   "execution_count": null,
   "metadata": {},
   "outputs": [],
   "source": [
    "#export \n",
    "def cora():\n",
    "    \"\"\"\n",
    "    Returns A, X, y where \n",
    "        A : is the adjacency matrix\n",
    "        X : is the feature matrix\n",
    "        y : are the node labels\n",
    "    \"\"\"\n",
    "    fname = Path(__file__).parents[1].joinpath('data/cora_gnnbench.npz')\n",
    "    cora = np.load(fname, allow_pickle=True)\n",
    "    A, X, y = cora['A'].tolist(), cora['X'].tolist(), cora['y']\n",
    "    return A, X, y"
   ]
  },
  {
   "cell_type": "code",
   "execution_count": null,
   "metadata": {},
   "outputs": [],
   "source": []
  },
  {
   "cell_type": "markdown",
   "metadata": {},
   "source": [
    "## Synethetic"
   ]
  },
  {
   "cell_type": "code",
   "execution_count": null,
   "metadata": {},
   "outputs": [],
   "source": [
    "#export\n",
    "def make_planar_graph(n):\n",
    "    \"\"\"\n",
    "    Makes a planar graph with n nodes\n",
    "    \n",
    "    Code adapted from https://stackoverflow.com/questions/26681899/how-to-make-networkx-graph-from-delaunay-preserving-attributes-of-the-input-node\n",
    "    \"\"\"\n",
    "    points = np.random.rand(n, 2)\n",
    "    delTri = scipy.spatial.Delaunay(points)\n",
    "    edges = set()\n",
    "    for n in range(delTri.nsimplex):\n",
    "        edge = sorted([delTri.vertices[n,0], delTri.vertices[n,1]])\n",
    "        edges.add((edge[0], edge[1]))\n",
    "        edge = sorted([delTri.vertices[n,0], delTri.vertices[n,2]])\n",
    "        edges.add((edge[0], edge[1]))\n",
    "        edge = sorted([delTri.vertices[n,1], delTri.vertices[n,2]])\n",
    "        edges.add((edge[0], edge[1]))\n",
    "    graph = nx.Graph(list(edges))\n",
    "    pos = pos = dict(zip(range(len(points)), points))\n",
    "    return graph, pos"
   ]
  },
  {
   "cell_type": "markdown",
   "metadata": {},
   "source": [
    "# Class versions \n",
    "\n",
    "Following an interface, maybe standard in the future... "
   ]
  },
  {
   "cell_type": "code",
   "execution_count": null,
   "metadata": {},
   "outputs": [],
   "source": [
    "#export \n",
    "class BAGraph():\n",
    "    \n",
    "    def __init__(self, n, m):\n",
    "        self.n = n\n",
    "        self.m = m\n",
    "        \n",
    "    def generate(self):\n",
    "        return nx.barabasi_albert_graph(self.n, self.m)\n",
    "    \n",
    "    def number_of_edges(self):\n",
    "        return self.generate().number_of_edges()\n",
    "    \n",
    "class SensorGraph():\n",
    "    \" KNN sensor graph, this used the github pygsp.graphs.Sensor implementation, not the stable release (i.e. as described in the docs) \"\n",
    "    \n",
    "    def __init__(self, n):\n",
    "        self.n = n\n",
    "        self.regular = regular\n",
    "    \n",
    "    def generate(self):\n",
    "        G = pygsp.graphs.Sensor(self.n)\n",
    "        return nx.Graph(G.W)\n",
    "    \n",
    "    def number_of_edges(self, samples=100):\n",
    "        graphs = [self.generate() for _ in range(samples)]\n",
    "        return np.mean([G.number_of_edges() for G in graphs])\n",
    "    \n",
    "class CoraGraph():\n",
    "    \n",
    "    def __init__(self, save_location='/tmp/cora'):\n",
    "        dataset = torch_geometric.datasets.Planetoid(save_location, 'Cora')\n",
    "        G = torch_geometric.utils.to_networkx(dataset.data).to_undirected()\n",
    "        self.cora = max(nx.connected_component_subgraphs(G), key=len)\n",
    "    \n",
    "    def generate(self):\n",
    "        return self.cora\n",
    "    \n",
    "    def number_of_edges(self):\n",
    "        return self.cora.number_of_edges()"
   ]
  },
  {
   "cell_type": "code",
   "execution_count": null,
   "metadata": {},
   "outputs": [
    {
     "name": "stdout",
     "output_type": "stream",
     "text": [
      "Converted 00_graphtools.ipynb.\n",
      "Converted 01_sampling.ipynb.\n",
      "Converted 02_metrics.ipynb.\n",
      "Converted 03_perturb.ipynb.\n",
      "Converted 04_plotting.ipynb.\n",
      "Converted 05_data.ipynb.\n",
      "Converted index.ipynb.\n"
     ]
    }
   ],
   "source": [
    "#hide\n",
    "from nbdev.export import notebook2script\n",
    "notebook2script()"
   ]
  }
 ],
 "metadata": {
  "kernelspec": {
   "display_name": "Python 3",
   "language": "python",
   "name": "python3"
  }
 },
 "nbformat": 4,
 "nbformat_minor": 4
}
