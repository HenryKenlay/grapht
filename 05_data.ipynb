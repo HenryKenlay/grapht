{
 "cells": [
  {
   "cell_type": "code",
   "execution_count": null,
   "metadata": {},
   "outputs": [],
   "source": [
    "#hide\n",
    "%load_ext autoreload\n",
    "%autoreload 2"
   ]
  },
  {
   "cell_type": "code",
   "execution_count": null,
   "metadata": {},
   "outputs": [],
   "source": [
    "# default_exp data"
   ]
  },
  {
   "cell_type": "markdown",
   "metadata": {},
   "source": [
    "# Data\n",
    "\n",
    "> Utilities for retrieving benchmarks and generating random graphs"
   ]
  },
  {
   "cell_type": "code",
   "execution_count": null,
   "metadata": {},
   "outputs": [],
   "source": [
    "#export \n",
    "from nbdev.showdoc import *\n",
    "import numpy as np\n",
    "import networkx as nx\n",
    "import scipy\n",
    "import pygsp\n",
    "from pathlib import Path"
   ]
  },
  {
   "cell_type": "markdown",
   "metadata": {},
   "source": [
    "## Benchmarks\n",
    "\n",
    "These datasets are downloaded and preprocessed using https://github.com/shchur/gnn-benchmark. I aim to replace them once I work out how to make gnn-benchmark a dependency"
   ]
  },
  {
   "cell_type": "markdown",
   "metadata": {},
   "source": [
    "### Citation networks"
   ]
  },
  {
   "cell_type": "code",
   "execution_count": null,
   "metadata": {},
   "outputs": [],
   "source": [
    "#export \n",
    "def cora():\n",
    "    return _preprocessed_dataset('cora')\n",
    "\n",
    "def pubmed():\n",
    "    return _preprocessed_dataset('pubmed')\n",
    "\n",
    "def citeseer():\n",
    "    return _preprocessed_dataset('citeseer')"
   ]
  },
  {
   "cell_type": "markdown",
   "metadata": {},
   "source": [
    "### Amazon networks"
   ]
  },
  {
   "cell_type": "code",
   "execution_count": null,
   "metadata": {},
   "outputs": [],
   "source": [
    "#export \n",
    "def amazon_photo():\n",
    "    return _preprocessed_dataset('amazon_electronics_photo')\n",
    "\n",
    "def amazon_computers():\n",
    "    return _preprocessed_dataset('amazon_electronics_computers')"
   ]
  },
  {
   "cell_type": "markdown",
   "metadata": {},
   "source": [
    "### Microsoft networks"
   ]
  },
  {
   "cell_type": "code",
   "execution_count": null,
   "metadata": {},
   "outputs": [],
   "source": [
    "#export \n",
    "def microsoft_physics():\n",
    "    return _preprocessed_dataset('ms_academic_phy')\n",
    "    \n",
    "def microsoft_cs():\n",
    "    return _preprocessed_dataset('ms_academic_cs')"
   ]
  },
  {
   "cell_type": "code",
   "execution_count": null,
   "metadata": {},
   "outputs": [],
   "source": [
    "#export\n",
    "def _preprocessed_dataset(dataset):\n",
    "    fname = Path(__file__).parents[1].joinpath(f'data/{dataset}_gnnbench.npz')\n",
    "    data = np.load(fname, allow_pickle=True)\n",
    "    A, X, y = data['A'].tolist(), data['X'].tolist(), data['y']\n",
    "    return A, X, y"
   ]
  },
  {
   "cell_type": "markdown",
   "metadata": {},
   "source": [
    "## Synethetic"
   ]
  },
  {
   "cell_type": "code",
   "execution_count": null,
   "metadata": {},
   "outputs": [],
   "source": [
    "#export\n",
    "def make_planar_graph(n):\n",
    "    \"\"\"\n",
    "    Makes a planar graph with n nodes\n",
    "    \n",
    "    Code adapted from https://stackoverflow.com/questions/26681899/how-to-make-networkx-graph-from-delaunay-preserving-attributes-of-the-input-node\n",
    "    \"\"\"\n",
    "    points = np.random.rand(n, 2)\n",
    "    delTri = scipy.spatial.Delaunay(points)\n",
    "    edges = set()\n",
    "    for n in range(delTri.nsimplex):\n",
    "        edge = sorted([delTri.vertices[n,0], delTri.vertices[n,1]])\n",
    "        edges.add((edge[0], edge[1]))\n",
    "        edge = sorted([delTri.vertices[n,0], delTri.vertices[n,2]])\n",
    "        edges.add((edge[0], edge[1]))\n",
    "        edge = sorted([delTri.vertices[n,1], delTri.vertices[n,2]])\n",
    "        edges.add((edge[0], edge[1]))\n",
    "    graph = nx.Graph(list(edges))\n",
    "    pos = pos = dict(zip(range(len(points)), points))\n",
    "    return graph, pos"
   ]
  },
  {
   "cell_type": "markdown",
   "metadata": {},
   "source": [
    "# Class versions \n",
    "\n",
    "Following an interface, maybe standardise in the future... "
   ]
  },
  {
   "cell_type": "code",
   "execution_count": null,
   "metadata": {},
   "outputs": [],
   "source": [
    "#export \n",
    "class BAGraph():\n",
    "    \n",
    "    def __init__(self, n, m):\n",
    "        self.n = n\n",
    "        self.m = m\n",
    "        \n",
    "    def generate(self):\n",
    "        return nx.barabasi_albert_graph(self.n, self.m, seed=seed)\n",
    "    \n",
    "    def number_of_edges(self):\n",
    "        return self.generate().number_of_edges()\n",
    "    \n",
    "    def __str__(self):\n",
    "        return f'BA-{self.n}-{self.m}'\n",
    "    \n",
    "class SensorGraph():\n",
    "    \" KNN sensor graph, this used the github pygsp.graphs.Sensor implementation, not the stable release (i.e. as described in the docs) \"\n",
    "    \n",
    "    def __init__(self, n):\n",
    "        self.n = n\n",
    "    \n",
    "    def generate(self):\n",
    "        G = pygsp.graphs.Sensor(self.n)\n",
    "        while not G.is_connected():\n",
    "            G = pygsp.graphs.Sensor(self.n)\n",
    "        return nx.Graph(G.W)\n",
    "    \n",
    "    def number_of_edges(self, samples=100):\n",
    "        graphs = [self.generate() for _ in range(samples)]\n",
    "        return np.mean([G.number_of_edges() for G in graphs])\n",
    "    \n",
    "    def __str__(self):\n",
    "        return f'Sensor-{self.n}'\n",
    "    \n",
    "class CoraGraph():\n",
    "    \n",
    "    def __init__(self, save_location='/tmp/cora'):\n",
    "        A, _, _ = cora()\n",
    "        self.cora = nx.from_scipy_sparse_matrix(A)\n",
    "    \n",
    "    def generate(self):\n",
    "        return self.cora\n",
    "    \n",
    "    def number_of_edges(self):\n",
    "        return self.cora.number_of_edges()\n",
    "    \n",
    "    def __str__(self):\n",
    "        return 'Cora'"
   ]
  },
  {
   "cell_type": "code",
   "execution_count": null,
   "metadata": {},
   "outputs": [
    {
     "name": "stdout",
     "output_type": "stream",
     "text": [
      "Converted 00_graphtools.ipynb.\n",
      "Converted 01_sampling.ipynb.\n",
      "Converted 02_metrics.ipynb.\n",
      "Converted 03_perturb.ipynb.\n",
      "Converted 04_plotting.ipynb.\n",
      "Converted 05_data.ipynb.\n",
      "Converted index.ipynb.\n"
     ]
    }
   ],
   "source": [
    "#hide\n",
    "from nbdev.export import notebook2script\n",
    "notebook2script()"
   ]
  },
  {
   "cell_type": "code",
   "execution_count": null,
   "metadata": {},
   "outputs": [],
   "source": []
  }
 ],
 "metadata": {
  "kernelspec": {
   "display_name": "Python 3",
   "language": "python",
   "name": "python3"
  }
 },
 "nbformat": 4,
 "nbformat_minor": 4
}
