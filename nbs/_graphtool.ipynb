{
 "cells": [
  {
   "cell_type": "code",
   "execution_count": null,
   "metadata": {},
   "outputs": [],
   "source": [
    "def highlight_edges_grapht(G, edges, pos):\n",
    "    \"G and pos need to be in graph_tool format\"\n",
    "    removed = G.new_edge_property('bool')\n",
    "    for edge in G.edges():\n",
    "        u, v = int(edge.source()), int(edge.target())\n",
    "        if (u, v) in edges or (v, u) in edges:\n",
    "            removed[edge]=True\n",
    "        else:\n",
    "            removed[edge]=False\n",
    "    gt.draw.graph_draw(G, pos, edge_color=removed)\n",
    "    \n",
    "def sfdp_layout(G):\n",
    "    G = get_graph_tool_graph(G)\n",
    "    pos = gt.draw.sfdp_layout(G)\n",
    "    return pos\n",
    "\n",
    "def neato_layout(G):\n",
    "    Gnx = get_networkx_graph(G)\n",
    "    pos = nx.drawing.nx_agraph.graphviz_layout(Gnx, prog='neato')\n",
    "    return nxpos_to_graphtpos(G, pos)\n",
    "\n",
    "def fdp_layout(G):\n",
    "    Gnx = get_networkx_graph(G)\n",
    "    pos = nx.drawing.nx_agraph.graphviz_layout(Gnx, prog='fdp')\n",
    "    return nxpos_to_graphtpos(G, pos)"
   ]
  }
 ],
 "metadata": {
  "kernelspec": {
   "display_name": "Python 3",
   "language": "python",
   "name": "python3"
  }
 },
 "nbformat": 4,
 "nbformat_minor": 4
}
