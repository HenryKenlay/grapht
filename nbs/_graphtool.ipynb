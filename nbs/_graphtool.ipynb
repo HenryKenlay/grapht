{
 "cells": [
  {
   "cell_type": "code",
   "execution_count": null,
   "metadata": {},
   "outputs": [],
   "source": [
    "def highlight_edges_grapht(G, edges, pos):\n",
    "    \"G and pos need to be in graph_tool format\"\n",
    "    removed = G.new_edge_property('bool')\n",
    "    for edge in G.edges():\n",
    "        u, v = int(edge.source()), int(edge.target())\n",
    "        if (u, v) in edges or (v, u) in edges:\n",
    "            removed[edge]=True\n",
    "        else:\n",
    "            removed[edge]=False\n",
    "    gt.draw.graph_draw(G, pos, edge_color=removed)\n",
    "    \n",
    "def sfdp_layout(G):\n",
    "    G = get_graph_tool_graph(G)\n",
    "    pos = gt.draw.sfdp_layout(G)\n",
    "    return pos\n",
    "\n",
    "def neato_layout(G):\n",
    "    Gnx = get_networkx_graph(G)\n",
    "    pos = nx.drawing.nx_agraph.graphviz_layout(Gnx, prog='neato')\n",
    "    return nxpos_to_graphtpos(G, pos)\n",
    "\n",
    "def fdp_layout(G):\n",
    "    Gnx = get_networkx_graph(G)\n",
    "    pos = nx.drawing.nx_agraph.graphviz_layout(Gnx, prog='fdp')\n",
    "    return nxpos_to_graphtpos(G, pos)\n",
    "\n",
    "def get_graph_tool_graph(G):\n",
    "    if 'networkx' in str(type(G)):\n",
    "        G = pyintergraph.nx2gt(G, labelname=\"node_label\")\n",
    "    return G\n",
    "\n",
    "def get_networkx_graph(G):\n",
    "    if 'graph_tool' in str(type(G)):\n",
    "        G = pyintergraph.gt2nx(G)\n",
    "    return G\n",
    "\n",
    "def nxpos_to_graphtpos(G, nx_pos):\n",
    "    \"\"\"\n",
    "        Takes a graph G (networkx or graph_tool) and a position dictionary and returns a graph_tool graph and VertexPropertyMap for plotting \n",
    "    \"\"\"\n",
    "    G = get_graph_tool_graph(G)\n",
    "    pos = G.new_vertex_property('vector<double>')\n",
    "    for i in nx_pos:\n",
    "        pos[i] = nx_pos[i]\n",
    "    return pos"
   ]
  }
 ],
 "metadata": {
  "kernelspec": {
   "display_name": "Python 3",
   "language": "python",
   "name": "python3"
  }
 },
 "nbformat": 4,
 "nbformat_minor": 4
}
