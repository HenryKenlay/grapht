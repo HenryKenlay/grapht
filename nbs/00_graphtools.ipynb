{
 "cells": [
  {
   "cell_type": "code",
   "execution_count": null,
   "metadata": {},
   "outputs": [],
   "source": [
    "#hide \n",
    "%load_ext autoreload\n",
    "%autoreload 2"
   ]
  },
  {
   "cell_type": "code",
   "execution_count": null,
   "metadata": {},
   "outputs": [],
   "source": [
    "# default_exp graphtools"
   ]
  },
  {
   "cell_type": "markdown",
   "metadata": {},
   "source": [
    "# Graph tools\n",
    "\n",
    "> Functions for general graph manipulation and property checking"
   ]
  },
  {
   "cell_type": "code",
   "execution_count": null,
   "metadata": {},
   "outputs": [],
   "source": [
    "#export \n",
    "from nbdev.showdoc import *\n",
    "import networkx as nx\n",
    "import warnings\n",
    "import scipy.sparse as sp"
   ]
  },
  {
   "cell_type": "markdown",
   "metadata": {},
   "source": [
    "## Graph utilities"
   ]
  },
  {
   "cell_type": "code",
   "execution_count": null,
   "metadata": {},
   "outputs": [],
   "source": [
    "#export\n",
    "def non_pendant_edges(G):\n",
    "    \"\"\"Returns a list of non-pendant edges of a graph `G`.\"\"\"\n",
    "    edges = list(G.edges())\n",
    "    edges = [edge for edge in edges if not is_pendant(G, edge)]\n",
    "    return edges\n",
    "\n",
    "def is_pendant(G, edge):\n",
    "    \"\"\"Returns if `edge` is pendant in the graph `G`.\"\"\"\n",
    "    if G.degree(edge[0]) == 1 or G.degree(edge[1]) == 1:\n",
    "        return True\n",
    "    else:\n",
    "        return False\n",
    "\n",
    "def has_isolated_nodes(G):\n",
    "    \"\"\"Returns if the graph `G` has isolated nodes.\"\"\"\n",
    "    if len(list(nx.isolates(G))) > 0:\n",
    "        return True\n",
    "    else:\n",
    "        return False\n",
    "    \n",
    "def edges_removed(G, Gp):\n",
    "    \"\"\"Returns a list of edges which are the edges of G set minus the edges of Gp.\"\"\"\n",
    "    return list(set(G.edges()) - set(Gp.edges()))"
   ]
  },
  {
   "cell_type": "markdown",
   "metadata": {},
   "source": [
    "## Spectral graph theory"
   ]
  },
  {
   "cell_type": "markdown",
   "metadata": {},
   "source": [
    "The normalised Laplacian of a graph $\\mathcal{G}$ is given by \n",
    "$$\\mathcal{L}(\\mathcal{G}) = \\begin{cases}\n",
    "1 & \\text{if }u=v \\text{ and } d_u > 0 \\\\\n",
    "\\frac{-1}{\\sqrt{d_ud_v}} & \\text{if }u \\sim v \\\\\n",
    "0 & otherwise\n",
    "\\end{cases}\n",
    "$$\n",
    "\n",
    "In this convention the diagonal entry is always $1$ unless the graph has isolated nodes in which case the entries are $0$ at those nodes. By setting `setdiag=True` then the diagonal entries will always be $1$ (even in the case of isolated nodes)"
   ]
  },
  {
   "cell_type": "code",
   "execution_count": null,
   "metadata": {},
   "outputs": [],
   "source": [
    "#export \n",
    "def laplacian(G, setdiag=False):\n",
    "    \"\"\"Returns the normalised Laplacian matrix of the graph `G`.\n",
    "    \n",
    "    If `setdiag` is `False` this is the same as `nx.normalized_laplacian_matrix(G)`\n",
    "    \n",
    "    If `setdiag` is `True` the diagonal of the Laplacian matrix will always contain `1` (even if nodes are isolated)\n",
    "    \"\"\"\n",
    "    L = nx.normalized_laplacian_matrix(G)\n",
    "    if setdiag:\n",
    "        with warnings.catch_warnings():\n",
    "            warnings.simplefilter(\"ignore\")\n",
    "            L.setdiag(1)\n",
    "    return L"
   ]
  },
  {
   "cell_type": "markdown",
   "metadata": {},
   "source": [
    "## Other"
   ]
  },
  {
   "cell_type": "code",
   "execution_count": null,
   "metadata": {},
   "outputs": [],
   "source": [
    "#export\n",
    "def sparse_is_symmetric(A):\n",
    "    \"\"\"Returns is a sparse matrix is `A`.\n",
    "    \n",
    "    solution taken from https://stackoverflow.com/a/30685839/2453167\n",
    "    \"\"\"\n",
    "    if (A!=A.T).nnz == 0:\n",
    "        return True\n",
    "    else:\n",
    "        return False"
   ]
  },
  {
   "cell_type": "code",
   "execution_count": null,
   "metadata": {},
   "outputs": [
    {
     "name": "stdout",
     "output_type": "stream",
     "text": [
      "Converted 00_graphtools.ipynb.\n",
      "Converted 01_sampling.ipynb.\n",
      "Converted 02_metrics.ipynb.\n",
      "Converted 03_perturb.ipynb.\n",
      "Converted 04_plotting.ipynb.\n",
      "Converted 05_data.ipynb.\n",
      "Converted index.ipynb.\n"
     ]
    }
   ],
   "source": [
    "#hide\n",
    "from nbdev.export import notebook2script\n",
    "notebook2script()"
   ]
  }
 ],
 "metadata": {
  "kernelspec": {
   "display_name": "Python 3",
   "language": "python",
   "name": "python3"
  }
 },
 "nbformat": 4,
 "nbformat_minor": 4
}
