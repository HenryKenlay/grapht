{
 "cells": [
  {
   "cell_type": "code",
   "execution_count": 1,
   "metadata": {},
   "outputs": [],
   "source": [
    "#hide\n",
    "%load_ext autoreload\n",
    "%autoreload 2"
   ]
  },
  {
   "cell_type": "code",
   "execution_count": 2,
   "metadata": {},
   "outputs": [],
   "source": [
    "# default_exp data"
   ]
  },
  {
   "cell_type": "markdown",
   "metadata": {},
   "source": [
    "# Data\n",
    "\n",
    "> Utilities for retrieving benchmarks and generating random graphs"
   ]
  },
  {
   "cell_type": "code",
   "execution_count": 3,
   "metadata": {},
   "outputs": [],
   "source": [
    "#export \n",
    "from nbdev.showdoc import *\n",
    "import numpy as np\n",
    "import networkx as nx\n",
    "import scipy\n",
    "import pygsp\n",
    "from pathlib import Path"
   ]
  },
  {
   "cell_type": "markdown",
   "metadata": {},
   "source": [
    "## Benchmarks\n",
    "\n",
    "These datasets are downloaded and preprocessed using https://github.com/shchur/gnn-benchmark. I aim to replace them once I work out how to make gnn-benchmark a dependency"
   ]
  },
  {
   "cell_type": "code",
   "execution_count": 4,
   "metadata": {},
   "outputs": [],
   "source": [
    "#export\n",
    "def get_benchmark(dataset):\n",
    "    \"\"\"Returns an adjacency matrix `A`, feature matrix `X` and labels `y` from standard benchmark.\n",
    "    \n",
    "    The data is normalised as done in `https://github.com/shchur/gnn-benchmark`.\n",
    "    \n",
    "    Args:\n",
    "        `dataset` (string): Can be cora, pubmed, citeseer, amazon_electronics_photo, \n",
    "                            amazon_electronics_computers, ms_academic_phy or ms_academic_cs\n",
    "                            \n",
    "    Returns:\n",
    "        `A`: An adjacency matrix in sparse array format  \n",
    "        `X`: A feature matrix in sparse array format  \n",
    "        `y`: Labels in list format\n",
    "    \"\"\"\n",
    "    fname = Path(__file__).parents[1].joinpath(f'data/standardised_{dataset}.npz')\n",
    "    data = np.load(fname, allow_pickle=True)\n",
    "    A, X, y = data['A'].tolist(), data['X'].tolist(), data['y']\n",
    "    return A, X, y"
   ]
  },
  {
   "cell_type": "markdown",
   "metadata": {},
   "source": [
    "## Synethetic"
   ]
  },
  {
   "cell_type": "code",
   "execution_count": 5,
   "metadata": {},
   "outputs": [],
   "source": [
    "#export\n",
    "\n",
    "def get_planar_graph(n, return_pos=False):\n",
    "    \"\"\"Returns a networkx graph which is planar on n nodes.\n",
    "    \n",
    "    The generation process is taken from:\n",
    "    https://stackoverflow.com/questions/26681899/how-to-make-networkx-graph-from-delaunay-preserving-attributes-of-the-input-node\n",
    "    \n",
    "    If `return_pos` a planar embedding is also returned in the form of {node : (x, y)}\n",
    "    \"\"\"\n",
    "    points = np.random.rand(n, 2)\n",
    "    delTri = scipy.spatial.Delaunay(points)\n",
    "    edges = set()\n",
    "    for n in range(delTri.nsimplex):\n",
    "        edge = sorted([delTri.vertices[n,0], delTri.vertices[n,1]])\n",
    "        edges.add((edge[0], edge[1]))\n",
    "        edge = sorted([delTri.vertices[n,0], delTri.vertices[n,2]])\n",
    "        edges.add((edge[0], edge[1]))\n",
    "        edge = sorted([delTri.vertices[n,1], delTri.vertices[n,2]])\n",
    "        edges.add((edge[0], edge[1]))\n",
    "    graph = nx.Graph(list(edges))\n",
    "    \n",
    "    if return_pos:\n",
    "        pos = dict(zip(range(len(points)), points))\n",
    "        return graph, pos\n",
    "    else:\n",
    "        return graph\n",
    "    \n",
    "def get_sensor_graph(n):\n",
    "    \"\"\"Returns a networkx graph for a connected KNN sensor graph\n",
    "    \n",
    "    This used the github pygsp.graphs.Sensor implementation, not the stable release (i.e. as described in the docs).\n",
    "    \"\"\"\n",
    "    G = pygsp.graphs.Sensor(n)\n",
    "    while not G.is_connected():\n",
    "        G = pygsp.graphs.Sensor(n)\n",
    "    return nx.Graph(G.W)\n",
    "\n",
    "def get_BASBM(sizes, p, m=2):\n",
    "    \"\"\"A stochastic block model where each block is a Barabasi Albert graph.\n",
    "    \n",
    "    Args:\n",
    "        `sizes` (list): a list of ints describing the size of each block. Each \n",
    "            size must be larger than m+1.\n",
    "        `p`: (float or array): if an array then p[i][j] is the probability of connecting\n",
    "            a node from block i to block j. If a float then its the probability of connecting\n",
    "            nodes from different blocks. \n",
    "        `m`: (int): the barabasi albert hyper-parameter.\n",
    "        \n",
    "    Returns:\n",
    "        A networkx graph.\n",
    "    \"\"\"\n",
    "    if isinstance(p, float) or isinstance(p, int):\n",
    "        p = p*np.ones((len(sizes), len(sizes)))\n",
    "    num_blocks = len(sizes)\n",
    "    blocks = []\n",
    "    for i in range(num_blocks):\n",
    "        block_row = []\n",
    "        for j in range(num_blocks):\n",
    "            if i == j:\n",
    "                block_row.append(nx.adj_matrix(nx.barabasi_albert_graph(sizes[i], m)).todense())\n",
    "            else:\n",
    "                block_row.append(np.random.binomial(1, p[i][j], (sizes[i], sizes[j])))\n",
    "        blocks.append(block_row)\n",
    "    adj_matrix = np.block(blocks)\n",
    "    return nx.from_numpy_array(adj_matrix)"
   ]
  },
  {
   "cell_type": "code",
   "execution_count": 6,
   "metadata": {},
   "outputs": [
    {
     "name": "stdout",
     "output_type": "stream",
     "text": [
      "Converted 00_graphtools.ipynb.\n",
      "Converted 01_sampling.ipynb.\n",
      "Converted 02_metrics.ipynb.\n",
      "Converted 03_perturb.ipynb.\n",
      "Converted 04_plotting.ipynb.\n",
      "Converted 05_data.ipynb.\n",
      "Converted index.ipynb.\n"
     ]
    }
   ],
   "source": [
    "#hide\n",
    "from nbdev.export import notebook2script\n",
    "notebook2script()"
   ]
  }
 ],
 "metadata": {
  "kernelspec": {
   "display_name": "Python 3",
   "language": "python",
   "name": "python3"
  },
  "language_info": {
   "codemirror_mode": {
    "name": "ipython",
    "version": 3
   },
   "file_extension": ".py",
   "mimetype": "text/x-python",
   "name": "python",
   "nbconvert_exporter": "python",
   "pygments_lexer": "ipython3",
   "version": "3.7.6"
  }
 },
 "nbformat": 4,
 "nbformat_minor": 4
}
