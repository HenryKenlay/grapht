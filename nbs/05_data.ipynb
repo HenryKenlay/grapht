{
 "cells": [
  {
   "cell_type": "code",
   "execution_count": null,
   "metadata": {},
   "outputs": [],
   "source": [
    "#hide\n",
    "%load_ext autoreload\n",
    "%autoreload 2"
   ]
  },
  {
   "cell_type": "code",
   "execution_count": null,
   "metadata": {},
   "outputs": [],
   "source": [
    "# default_exp data"
   ]
  },
  {
   "cell_type": "markdown",
   "metadata": {},
   "source": [
    "# Data\n",
    "\n",
    "> Utilities for retrieving benchmarks and generating random graphs"
   ]
  },
  {
   "cell_type": "code",
   "execution_count": 3,
   "metadata": {},
   "outputs": [],
   "source": [
    "#export \n",
    "from nbdev.showdoc import *\n",
    "import numpy as np\n",
    "import networkx as nx\n",
    "import scipy\n",
    "import pygsp\n",
    "from pathlib import Path"
   ]
  },
  {
   "cell_type": "markdown",
   "metadata": {},
   "source": [
    "## Benchmarks\n",
    "\n",
    "These datasets are downloaded and preprocessed using https://github.com/shchur/gnn-benchmark. I aim to replace them once I work out how to make gnn-benchmark a dependency"
   ]
  },
  {
   "cell_type": "code",
   "execution_count": 4,
   "metadata": {},
   "outputs": [],
   "source": [
    "#export\n",
    "def get_benchmark(dataset):\n",
    "    \"\"\"Returns an adjacency matrix `A`, feature matrix `X` and labels `y` from standard benchmark.\n",
    "    \n",
    "    The data is normalised as done in `https://github.com/shchur/gnn-benchmark`.\n",
    "    \n",
    "    Args:\n",
    "        `dataset` (string): Can be cora, pubmed, citeseer, amazon_electronics_photo, \n",
    "                            amazon_electronics_computers, ms_academic_phy or ms_academic_cs\n",
    "                            \n",
    "    Returns:\n",
    "        `A`: An adjacency matrix in sparse array format  \n",
    "        `X`: A feature matrix in sparse array format  \n",
    "        `y`: Labels in list format\n",
    "    \"\"\"\n",
    "    fname = Path(__file__).parents[1].joinpath(f'data/standardised_{dataset}.npz')\n",
    "    data = np.load(fname, allow_pickle=True)\n",
    "    A, X, y = data['A'].tolist(), data['X'].tolist(), data['y']\n",
    "    return A, X, y"
   ]
  },
  {
   "cell_type": "markdown",
   "metadata": {},
   "source": [
    "## Synethetic"
   ]
  },
  {
   "cell_type": "code",
   "execution_count": 5,
   "metadata": {},
   "outputs": [],
   "source": [
    "#export\n",
    "\n",
    "def get_planar_graph(n, return_pos=False):\n",
    "    \"\"\"Returns a networkx graph which is planar on n nodes.\n",
    "    \n",
    "    The generation process is taken from:\n",
    "    https://stackoverflow.com/questions/26681899/how-to-make-networkx-graph-from-delaunay-preserving-attributes-of-the-input-node\n",
    "    \n",
    "    If `return_pos` a planar embedding is also returned in the form of {node : (x, y)}\n",
    "    \"\"\"\n",
    "    points = np.random.rand(n, 2)\n",
    "    delTri = scipy.spatial.Delaunay(points)\n",
    "    edges = set()\n",
    "    for n in range(delTri.nsimplex):\n",
    "        edge = sorted([delTri.vertices[n,0], delTri.vertices[n,1]])\n",
    "        edges.add((edge[0], edge[1]))\n",
    "        edge = sorted([delTri.vertices[n,0], delTri.vertices[n,2]])\n",
    "        edges.add((edge[0], edge[1]))\n",
    "        edge = sorted([delTri.vertices[n,1], delTri.vertices[n,2]])\n",
    "        edges.add((edge[0], edge[1]))\n",
    "    graph = nx.Graph(list(edges))\n",
    "    \n",
    "    if return_pos:\n",
    "        pos = dict(zip(range(len(points)), points))\n",
    "        return graph, pos\n",
    "    else:\n",
    "        return graph\n",
    "    \n",
    "def get_sensor_graph(n):\n",
    "    \"\"\"Returns a networkx graph for a connected KNN sensor graph\n",
    "    \n",
    "    This used the github pygsp.graphs.Sensor implementation, not the stable release (i.e. as described in the docs).\n",
    "    \"\"\"\n",
    "    G = pygsp.graphs.Sensor(n)\n",
    "    while not G.is_connected():\n",
    "        G = pygsp.graphs.Sensor(n)\n",
    "    return nx.Graph(G.W)\n",
    "\n",
    "def get_BASBM(sizes, p, m=2):\n",
    "    \"\"\"A stochastic block model where each block is a Barabasi Albert graph.\n",
    "    \n",
    "    Args:\n",
    "        `sizes` (list): a list of ints describing the size of each block. Each \n",
    "            size must be larger than m+1.\n",
    "        `p`: (float or array): if an array then p[i][j] is the probability of connecting\n",
    "            a node from block i to block j. If a float then its the probability of connecting\n",
    "            nodes from different blocks. \n",
    "        `m`: (int): the barabasi albert hyper-parameter.\n",
    "        \n",
    "    Returns:\n",
    "        A networkx graph.\n",
    "    \"\"\"\n",
    "    if isinstance(p, float) or isinstance(p, int):\n",
    "        p = p*np.ones((len(sizes), len(sizes)))\n",
    "    num_blocks = len(sizes)\n",
    "    blocks = []\n",
    "    for i in range(num_blocks):\n",
    "        block_row = []\n",
    "        for j in range(num_blocks):\n",
    "            if i == j:\n",
    "                block_row.append(nx.adj_matrix(nx.barabasi_albert_graph(sizes[i], m)).todense())\n",
    "            else:\n",
    "                block_row.append(np.random.binomial(1, p[i][j], (sizes[i], sizes[j])))\n",
    "        blocks.append(block_row)\n",
    "    adj_matrix = np.block(blocks)\n",
    "    return nx.from_numpy_array(adj_matrix)"
   ]
  },
  {
   "cell_type": "code",
   "execution_count": 6,
   "metadata": {},
   "outputs": [
    {
     "name": "stdout",
     "output_type": "stream",
     "text": [
      "Converted 00_graphtools.ipynb.\n",
      "Converted 01_sampling.ipynb.\n",
      "Converted 02_metrics.ipynb.\n",
      "Converted 03_perturb.ipynb.\n",
      "Converted 04_plotting.ipynb.\n",
      "Converted 05_data.ipynb.\n",
      "Converted index.ipynb.\n"
     ]
    }
   ],
   "source": [
    "#hide\n",
    "from nbdev.export import notebook2script\n",
    "notebook2script()"
   ]
  },
  {
   "cell_type": "code",
   "execution_count": null,
   "metadata": {},
   "outputs": [],
   "source": []
  },
  {
   "cell_type": "code",
   "execution_count": null,
   "metadata": {},
   "outputs": [],
   "source": []
  },
  {
   "cell_type": "code",
   "execution_count": 10,
   "metadata": {},
   "outputs": [
    {
     "name": "stdout",
     "output_type": "stream",
     "text": [
      "25\n",
      "25\n"
     ]
    },
    {
     "ename": "AssertionError",
     "evalue": "",
     "output_type": "error",
     "traceback": [
      "\u001b[0;31m---------------------------------------------------------------------------\u001b[0m",
      "\u001b[0;31mAssertionError\u001b[0m                            Traceback (most recent call last)",
      "\u001b[0;32m<ipython-input-10-ec8af1152f68>\u001b[0m in \u001b[0;36m<module>\u001b[0;34m\u001b[0m\n\u001b[1;32m      8\u001b[0m             \u001b[0mprint\u001b[0m\u001b[0;34m(\u001b[0m\u001b[0msizes\u001b[0m\u001b[0;34m[\u001b[0m\u001b[0mi\u001b[0m\u001b[0;34m]\u001b[0m\u001b[0;34m*\u001b[0m\u001b[0msizes\u001b[0m\u001b[0;34m[\u001b[0m\u001b[0mj\u001b[0m\u001b[0;34m]\u001b[0m\u001b[0;34m)\u001b[0m\u001b[0;34m\u001b[0m\u001b[0;34m\u001b[0m\u001b[0m\n\u001b[1;32m      9\u001b[0m             \u001b[0mexpected_total_edges\u001b[0m \u001b[0;34m+=\u001b[0m \u001b[0msizes\u001b[0m\u001b[0;34m[\u001b[0m\u001b[0mi\u001b[0m\u001b[0;34m]\u001b[0m\u001b[0;34m*\u001b[0m\u001b[0msizes\u001b[0m\u001b[0;34m[\u001b[0m\u001b[0mj\u001b[0m\u001b[0;34m]\u001b[0m\u001b[0;34m\u001b[0m\u001b[0;34m\u001b[0m\u001b[0m\n\u001b[0;32m---> 10\u001b[0;31m \u001b[0;32massert\u001b[0m \u001b[0mlen\u001b[0m\u001b[0;34m(\u001b[0m\u001b[0mG\u001b[0m\u001b[0;34m.\u001b[0m\u001b[0medges\u001b[0m\u001b[0;34m(\u001b[0m\u001b[0;34m)\u001b[0m\u001b[0;34m)\u001b[0m \u001b[0;34m==\u001b[0m \u001b[0mexpected_total_edges\u001b[0m\u001b[0;34m\u001b[0m\u001b[0;34m\u001b[0m\u001b[0m\n\u001b[0m\u001b[1;32m     11\u001b[0m \u001b[0;34m\u001b[0m\u001b[0m\n",
      "\u001b[0;31mAssertionError\u001b[0m: "
     ]
    }
   ],
   "source": [
    "m = 2\n",
    "sizes = [5, 5]\n",
    "G = get_BASBM(sizes, 1, m)\n",
    "expected_total_edges = np.sum([(n-m)*m for n in sizes])\n",
    "for i in range(len(sizes)):\n",
    "    for j in range(len(sizes)):\n",
    "        if i!=j:\n",
    "            print(sizes[i]*sizes[j])\n",
    "            expected_total_edges += sizes[i]*sizes[j]\n",
    "assert len(G.edges()) == expected_total_edges\n",
    "    "
   ]
  },
  {
   "cell_type": "code",
   "execution_count": 9,
   "metadata": {},
   "outputs": [
    {
     "data": {
      "text/plain": [
       "matrix([[0, 0, 1, 0, 0, 1, 1, 1, 1, 1],\n",
       "        [0, 0, 1, 1, 1, 1, 1, 1, 1, 1],\n",
       "        [1, 1, 0, 1, 1, 1, 1, 1, 1, 1],\n",
       "        [0, 1, 1, 0, 0, 1, 1, 1, 1, 1],\n",
       "        [0, 1, 1, 0, 0, 1, 1, 1, 1, 1],\n",
       "        [1, 1, 1, 1, 1, 0, 0, 1, 1, 0],\n",
       "        [1, 1, 1, 1, 1, 0, 0, 1, 0, 0],\n",
       "        [1, 1, 1, 1, 1, 1, 1, 0, 1, 1],\n",
       "        [1, 1, 1, 1, 1, 1, 0, 1, 0, 1],\n",
       "        [1, 1, 1, 1, 1, 0, 0, 1, 1, 0]], dtype=int64)"
      ]
     },
     "execution_count": 9,
     "metadata": {},
     "output_type": "execute_result"
    }
   ],
   "source": [
    "nx.adj_matrix(G).todense()"
   ]
  },
  {
   "cell_type": "code",
   "execution_count": null,
   "metadata": {},
   "outputs": [],
   "source": []
  }
 ],
 "metadata": {
  "kernelspec": {
   "display_name": "Python 3",
   "language": "python",
   "name": "python3"
  },
  "language_info": {
   "codemirror_mode": {
    "name": "ipython",
    "version": 3
   },
   "file_extension": ".py",
   "mimetype": "text/x-python",
   "name": "python",
   "nbconvert_exporter": "python",
   "pygments_lexer": "ipython3",
   "version": "3.7.6"
  }
 },
 "nbformat": 4,
 "nbformat_minor": 4
}
