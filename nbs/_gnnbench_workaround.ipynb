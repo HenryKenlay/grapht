{
 "cells": [
  {
   "cell_type": "code",
   "execution_count": null,
   "metadata": {},
   "outputs": [],
   "source": [
    "from gnnbench.data.io import SparseGraph, load_dataset\n",
    "from tqdm.notebook import tqdm\n",
    "from grapht.data import get_BASBM, get_benchmark\n",
    "from grapht.perturb import khop_edge_deletion, khop_rewire\n",
    "import scipy.sparse as sp\n",
    "import numpy as np\n",
    "import networkx as nx\n",
    "import pandas as pd\n",
    "import pickle\n",
    "import requests"
   ]
  },
  {
   "cell_type": "code",
   "execution_count": null,
   "metadata": {},
   "outputs": [],
   "source": [
    "datasets = ['cora', 'cora_full', 'citeseer', 'pubmed',\n",
    "            'amazon_electronics_photo', 'amazon_electronics_computers',\n",
    "            'ms_academic_cs', 'ms_academic_phy']\n",
    "\n",
    "def gnnbench_data(name):\n",
    "    G = load_dataset(f'../data/{name}')\n",
    "    G.standardize()\n",
    "    A, X, y = G.unpack()\n",
    "    return A, X, y"
   ]
  },
  {
   "cell_type": "markdown",
   "metadata": {},
   "source": [
    "# Download and standardise data using gnn-bench\n",
    "Process data using gnn-bench and saves it. Eventually will add this functionality to the data submodule"
   ]
  },
  {
   "cell_type": "code",
   "execution_count": null,
   "metadata": {},
   "outputs": [
    {
     "data": {
      "application/vnd.jupyter.widget-view+json": {
       "model_id": "5dc75b279db945b2b7f61e3c09d0fb49",
       "version_major": 2,
       "version_minor": 0
      },
      "text/plain": [
       "HBox(children=(FloatProgress(value=0.0, description='Downloading data', max=8.0, style=ProgressStyle(descripti…"
      ]
     },
     "metadata": {},
     "output_type": "display_data"
    },
    {
     "name": "stdout",
     "output_type": "stream",
     "text": [
      "\n"
     ]
    }
   ],
   "source": [
    "for dataset in tqdm(datasets, desc='Downloading data'):\n",
    "    request = requests.get(f'https://raw.github.com/shchur/gnn-benchmark/master/data/npz/{dataset}.npz')\n",
    "    open(f'../data/{dataset}.npz', 'wb').write(request.content)"
   ]
  },
  {
   "cell_type": "code",
   "execution_count": null,
   "metadata": {},
   "outputs": [],
   "source": [
    "for dataset in datasets:\n",
    "    A, X, y = gnnbench_data(dataset)\n",
    "    np.savez(f'../data/standardised_{dataset}', A=A, X=X, y=y)"
   ]
  },
  {
   "cell_type": "markdown",
   "metadata": {},
   "source": [
    "# Linegraph path lengths\n",
    "\n",
    "This is used to make processing lengths in the linegraph faster by caching all distances. Cora took my computer 15 seconds and citeseer takes 6 seconds. It may not be feasible to compute for larger datasets."
   ]
  },
  {
   "cell_type": "code",
   "execution_count": null,
   "metadata": {},
   "outputs": [],
   "source": [
    "import scipy.sparse as sp\n",
    "from timebudget import timebudget"
   ]
  },
  {
   "cell_type": "code",
   "execution_count": null,
   "metadata": {},
   "outputs": [
    {
     "name": "stdout",
     "output_type": "stream",
     "text": [
      "cora took 13.412sec\n",
      "citeseer took 5.885sec\n",
      "BASBM took 153.22ms\n"
     ]
    }
   ],
   "source": [
    "for dataset in ['cora', 'citeseer']:\n",
    "    A, X, y = gnnbench_data(dataset)\n",
    "    G = nx.from_scipy_sparse_matrix(A)\n",
    "    G = nx.line_graph(G)\n",
    "    A = nx.to_scipy_sparse_matrix(G)\n",
    "    with timebudget(dataset):\n",
    "        D = sp.csgraph.dijkstra(A)\n",
    "    np.save(f'../data/linegraph_distances_{dataset}', D)"
   ]
  },
  {
   "cell_type": "markdown",
   "metadata": {},
   "source": [
    "# BASBM dataset"
   ]
  },
  {
   "cell_type": "code",
   "execution_count": null,
   "metadata": {},
   "outputs": [],
   "source": [
    "def get_valid_graph(sizes, p):\n",
    "    # makes sure there is a valid perturbation of 2% edge removals and 5% edge rewires\n",
    "    valid = False\n",
    "    while not valid:\n",
    "        G = get_BASBM(sizes, p)\n",
    "        result_remove = khop_edge_deletion(G, k=2, r=int(G.number_of_edges()*0.02)) \n",
    "        result_rewire = khop_rewire(G, k=2, r=int(G.number_of_edges()*0.05)) \n",
    "        if result_remove is not None and result_rewire is not None:\n",
    "            valid = True\n",
    "    return G"
   ]
  },
  {
   "cell_type": "code",
   "execution_count": null,
   "metadata": {},
   "outputs": [
    {
     "name": "stdout",
     "output_type": "stream",
     "text": [
      "[[0.34514    0.21521006 0.43964994]\n",
      " [0.36976793 0.44430321 0.18592886]\n",
      " [0.02348958 0.73739406 0.23911636]]\n"
     ]
    }
   ],
   "source": [
    "# Generate A \n",
    "sizes = [100, 100, 100]\n",
    "p = 0.001\n",
    "G = get_valid_graph(sizes, p)\n",
    "A = nx.adj_matrix(G)\n",
    "\n",
    "# Generate X \n",
    "ps = np.random.dirichlet(alpha=[1,1,1], size=3)\n",
    "print(ps)\n",
    "X = []\n",
    "for i, size in enumerate(sizes):\n",
    "    X.append(np.random.choice([0, 1, 2], size=size, p=ps[i]))\n",
    "X = np.concatenate(X)\n",
    "X = np.expand_dims(X, 1)\n",
    "X = sp.csr_matrix(X)\n",
    "\n",
    "# Generate y\n",
    "y = np.concatenate([[i for _ in range(sizes[i])] for i in range(len(sizes))])"
   ]
  },
  {
   "cell_type": "code",
   "execution_count": null,
   "metadata": {},
   "outputs": [],
   "source": [
    "G = SparseGraph(adj_matrix=A, attr_matrix=X, labels=y)\n",
    "G.standardize()\n",
    "A, X, y = G.unpack()\n",
    "np.savez('../data/standardised_BASBM', A=A, X=X, y=y)"
   ]
  },
  {
   "cell_type": "code",
   "execution_count": null,
   "metadata": {},
   "outputs": [
    {
     "name": "stdout",
     "output_type": "stream",
     "text": [
      "BASBM took 148.12ms\n"
     ]
    }
   ],
   "source": [
    "A, X, y = get_benchmark('BASBM')\n",
    "G = nx.from_scipy_sparse_matrix(A)\n",
    "G = nx.line_graph(G)\n",
    "A = nx.to_scipy_sparse_matrix(G)\n",
    "with timebudget(dataset):\n",
    "    D = sp.csgraph.dijkstra(A)\n",
    "np.save(f'../data/linegraph_distances_{dataset}', D)   "
   ]
  }
 ],
 "metadata": {
  "kernelspec": {
   "display_name": "Python 3",
   "language": "python",
   "name": "python3"
  }
 },
 "nbformat": 4,
 "nbformat_minor": 4
}
