{
 "cells": [
  {
   "cell_type": "code",
   "execution_count": null,
   "metadata": {},
   "outputs": [
    {
     "name": "stdout",
     "output_type": "stream",
     "text": [
      "WARNING:tensorflow:\n",
      "The TensorFlow contrib module will not be included in TensorFlow 2.0.\n",
      "For more information, please see:\n",
      "  * https://github.com/tensorflow/community/blob/master/rfcs/20180907-contrib-sunset.md\n",
      "  * https://github.com/tensorflow/addons\n",
      "  * https://github.com/tensorflow/io (for I/O related ops)\n",
      "If you depend on functionality not listed there, please file an issue.\n",
      "\n"
     ]
    }
   ],
   "source": [
    "from gnnbench.data.io import load_dataset\n",
    "from tqdm.notebook import tqdm\n",
    "import numpy as np\n",
    "import networkx as nx\n",
    "import pandas as pd\n",
    "import pickle\n",
    "import requests"
   ]
  },
  {
   "cell_type": "code",
   "execution_count": null,
   "metadata": {},
   "outputs": [],
   "source": [
    "datasets = ['cora', 'cora_full', 'citeseer', 'pubmed',\n",
    "            'amazon_electronics_photo', 'amazon_electronics_computers',\n",
    "            'ms_academic_cs', 'ms_academic_phy']\n",
    "\n",
    "def gnnbench_data(name):\n",
    "    G = load_dataset(f'../data/{name}')\n",
    "    G.standardize()\n",
    "    A, X, y = G.unpack()\n",
    "    return A, X, y"
   ]
  },
  {
   "cell_type": "markdown",
   "metadata": {},
   "source": [
    "# Download and standardise data using gnn-bench\n",
    "Process data using gnn-bench and saves it. Eventually will add this functionality to the data submodule"
   ]
  },
  {
   "cell_type": "code",
   "execution_count": null,
   "metadata": {},
   "outputs": [
    {
     "data": {
      "application/vnd.jupyter.widget-view+json": {
       "model_id": "5dc75b279db945b2b7f61e3c09d0fb49",
       "version_major": 2,
       "version_minor": 0
      },
      "text/plain": [
       "HBox(children=(FloatProgress(value=0.0, description='Downloading data', max=8.0, style=ProgressStyle(descripti…"
      ]
     },
     "metadata": {},
     "output_type": "display_data"
    },
    {
     "name": "stdout",
     "output_type": "stream",
     "text": [
      "\n"
     ]
    }
   ],
   "source": [
    "for dataset in tqdm(datasets, desc='Downloading data'):\n",
    "    request = requests.get(f'https://raw.github.com/shchur/gnn-benchmark/master/data/npz/{dataset}.npz')\n",
    "    open(f'../data/{dataset}.npz', 'wb').write(request.content)"
   ]
  },
  {
   "cell_type": "code",
   "execution_count": null,
   "metadata": {},
   "outputs": [],
   "source": [
    "for dataset in datasets:\n",
    "    A, X, y = gnnbench_data(dataset)\n",
    "    np.savez(f'../data/standardised_{dataset}', A=A, X=X, y=y)"
   ]
  },
  {
   "cell_type": "markdown",
   "metadata": {},
   "source": [
    "# Linegraph path lengths\n",
    "\n",
    "This is used to make processing lengths in the linegraph faster by caching all distances. Cora took my computer 15 seconds and citeseer takes 6 seconds. It may not be feasible to compute for larger datasets."
   ]
  },
  {
   "cell_type": "code",
   "execution_count": null,
   "metadata": {},
   "outputs": [],
   "source": [
    "import scipy.sparse as sp\n",
    "from timebudget import timebudget"
   ]
  },
  {
   "cell_type": "code",
   "execution_count": null,
   "metadata": {},
   "outputs": [
    {
     "name": "stdout",
     "output_type": "stream",
     "text": [
      "cora took 14.870sec\n",
      "citeseer took 6.020sec\n"
     ]
    }
   ],
   "source": [
    "for dataset in ['cora', 'citeseer']:\n",
    "    A, X, y = gnnbench_data(dataset)\n",
    "    G = nx.from_scipy_sparse_matrix(A)\n",
    "    G = nx.line_graph(G)\n",
    "    A = nx.to_scipy_sparse_matrix(G)\n",
    "    with timebudget(dataset):\n",
    "        D = sp.csgraph.dijkstra(A)\n",
    "    np.save(f'../data/linegraph_distances_{dataset}', D)"
   ]
  }
 ],
 "metadata": {
  "kernelspec": {
   "display_name": "Python 3",
   "language": "python",
   "name": "python3"
  }
 },
 "nbformat": 4,
 "nbformat_minor": 4
}
