{
 "cells": [
  {
   "cell_type": "code",
   "execution_count": null,
   "metadata": {},
   "outputs": [],
   "source": [
    "#hide\n",
    "%load_ext autoreload\n",
    "%autoreload 2"
   ]
  },
  {
   "cell_type": "code",
   "execution_count": null,
   "metadata": {},
   "outputs": [],
   "source": [
    "# default_exp metrics"
   ]
  },
  {
   "cell_type": "markdown",
   "metadata": {},
   "source": [
    "# Metrics\n",
    "\n",
    "> Metrics and norms"
   ]
  },
  {
   "cell_type": "code",
   "execution_count": null,
   "metadata": {},
   "outputs": [],
   "source": [
    "#export \n",
    "from nbdev.showdoc import *\n",
    "from grapht.graphtools import laplacian\n",
    "from grapht.data import get_benchmark\n",
    "from functools import lru_cache\n",
    "from pathlib import Path\n",
    "from hashlib import md5\n",
    "import networkx as nx\n",
    "import numpy as np\n",
    "import scipy.sparse as sp\n",
    "import pickle\n",
    "import os"
   ]
  },
  {
   "cell_type": "markdown",
   "metadata": {},
   "source": [
    "## Norms"
   ]
  },
  {
   "cell_type": "markdown",
   "metadata": {},
   "source": [
    "Scipy doesnt have implementations for these norms "
   ]
  },
  {
   "cell_type": "code",
   "execution_count": null,
   "metadata": {},
   "outputs": [],
   "source": [
    "#export \n",
    "def sparse_norm(A, ord=2):\n",
    "    \"\"\"Like scipy.sparse.lingalg.norm but with the 2-norm and max norm implemented.\n",
    "    \n",
    "    If `ord=2` or `ord='max'` a grapht implementation is used, otherwise scipy.sparse.lingalg.norm is used.\n",
    "    \"\"\"\n",
    "    if not sp.issparse(A):\n",
    "        raise TypeError('input must be sparse')\n",
    "    if ord == 2:\n",
    "        return sparse_2norm(A)\n",
    "    elif ord == 'max':\n",
    "        return sparse_maxnorm(A)\n",
    "    else:\n",
    "        return sp.linalg.norm(A, ord=ord)\n",
    "\n",
    "def sparse_2norm(A):\n",
    "    \"\"\"Returns the matrix 2-norm of a sparse matrix `A`.\"\"\"\n",
    "    if not sp.issparse(A):\n",
    "        raise TypeError('input must be sparse')\n",
    "    return sp.linalg.svds(A, k=1, which='LM', return_singular_vectors=False)[0]\n",
    "\n",
    "def sparse_maxnorm(A):\n",
    "    \"\"\"Returns the max |A_ij| for a sparse matrix `A`.\"\"\"\n",
    "    if not sp.issparse(A):\n",
    "        raise TypeError('input must be sparse')\n",
    "    return max(-A.min(), A.max())"
   ]
  },
  {
   "cell_type": "markdown",
   "metadata": {},
   "source": [
    "## Metrics\n",
    "\n",
    "The Laplacian distance isnt a real metric but 🤷‍♂️"
   ]
  },
  {
   "cell_type": "code",
   "execution_count": null,
   "metadata": {},
   "outputs": [],
   "source": [
    "#export\n",
    "def laplacian_distance(G, Gp, setdiag=False):\n",
    "    \"\"\"Calculates $|| \\mathcal{L}(G) -  \\mathcal{L}(G_p) ||$ using the matrix 2-norm.\"\"\"\n",
    "    L = laplacian(G, setdiag)\n",
    "    Lp = laplacian(Gp, setdiag)\n",
    "    E = Lp - L\n",
    "    return sparse_2norm(E)"
   ]
  },
  {
   "cell_type": "markdown",
   "metadata": {},
   "source": [
    "## Line distances"
   ]
  },
  {
   "cell_type": "markdown",
   "metadata": {},
   "source": [
    "This is used to calculate the distance between edges. The distances are cached"
   ]
  },
  {
   "cell_type": "code",
   "execution_count": null,
   "metadata": {},
   "outputs": [],
   "source": [
    "#export\n",
    "class LineDistances():\n",
    "    \"\"\"\n",
    "    An object which computes the distances of edges in the graphs line graph.\n",
    "    \n",
    "    If precompute is True a distance matrix is computed for all pairs of edges or loaded if a file exists at precompute_dir.\n",
    "    \"\"\"\n",
    "    \n",
    "    def __init__(self, G, precompute=False, precompute_dir='/tmp'):\n",
    "        \"\"\"G is a networkx graph.\"\"\"\n",
    "        self.G = G\n",
    "        self.line_graph = nx.line_graph(G)\n",
    "        self.line_graph_nodes = list(self.line_graph.nodes())\n",
    "        self.precompute = precompute\n",
    "        \n",
    "        if self.precompute:\n",
    "            self.precompute_dir = precompute_dir\n",
    "            graph_hash = self.hash_graph(G)\n",
    "            self.fname = os.path.join(self.precompute_dir, f'grapht_{graph_hash}.npy')\n",
    "            if os.path.isfile(os.path.isfile(self.fname)):\n",
    "                self.load_precompute()\n",
    "            else:\n",
    "                self.precompute_and_save()\n",
    "\n",
    "            \n",
    "    def precompute_and_save(self):\n",
    "        \"\"\"Compute all path lengths and save to disk.\"\"\"\n",
    "        L = nx.to_scipy_sparse_matrix(self.line_graph)\n",
    "        self.all_path_lengths = sp.csgraph.dijkstra(L, directed=False, unweighted=True)\n",
    "        np.save(self.fname, self.all_path_lengths)\n",
    "    \n",
    "    \n",
    "    def load_precompute(self):\n",
    "        \"\"\"Load the precompute path lengths matrix.\"\"\"\n",
    "        self.all_path_lengths = np.load(self.fname)\n",
    "    \n",
    "            \n",
    "    def hash_graph(self, G):\n",
    "        \"\"\"Return a string hash of a networkx graph.\"\"\"\n",
    "        pickle_str = pickle.dumps(G)\n",
    "        return md5(pickle_str).hexdigest()\n",
    "    \n",
    "            \n",
    "    def __call__(self, edge1, edge2):\n",
    "        \"\"\"Calculates the linegraph distance between `edge1` and `edge2`.\"\"\"\n",
    "        edge1, edge2 = self.sort_edge(edge1), self.sort_edge(edge2)\n",
    "        if self.precompute:\n",
    "            i, j = self.edge_index(edge1), self.edge_index(edge2)\n",
    "            return self.all_path_lengths[i, j] \n",
    "        else:\n",
    "            return nx.shortest_path_length(self.line_graph, edge1, edge2)\n",
    "    \n",
    "    def sort_edge(self, edge):\n",
    "        \"\"\"Makes sure edges are of the form (u, v) where u <= v.\"\"\"\n",
    "        if edge[0] <= edge[1]:\n",
    "            return edge\n",
    "        else:\n",
    "            return (edge[1], edge[0]) \n",
    "        \n",
    "    @lru_cache(maxsize=None)\n",
    "    def edge_index(self, edge):\n",
    "        \"\"\"Returns the index of the matrix which corresponds to `edge`.\"\"\"\n",
    "        return self.line_graph_nodes.index(edge)\n",
    "    \n",
    "    \n",
    "    def pairwise_distances(self, edges):\n",
    "        \"\"\"Calculates the linegraph distance between all pairs of edges in `edges`.\"\"\"\n",
    "        distances = []\n",
    "        for i in range(len(edges)):\n",
    "            for j in range(i+1, len(edges)):\n",
    "                distances.append(self(edges[i], edges[j]))\n",
    "        return np.array(distances)"
   ]
  },
  {
   "cell_type": "markdown",
   "metadata": {},
   "source": [
    "# Degree"
   ]
  },
  {
   "cell_type": "code",
   "execution_count": null,
   "metadata": {},
   "outputs": [],
   "source": [
    "#export\n",
    "def average_gmdegree(G, edges):\n",
    "    \"\"\"The average edge degree geometric mean over all edges in `edges`.\"\"\"\n",
    "    return np.mean([edge_degree_gm(G, edge) for edge in edges])\n",
    "\n",
    "def edge_degree_gm(G, edge):\n",
    "    \"\"\"For an edge (u, v) with degree du, dv this function returns the geometric mean of du and dv.\"\"\"\n",
    "    return np.sqrt(G.degree(edge[0]) * G.degree(edge[1]))"
   ]
  },
  {
   "cell_type": "code",
   "execution_count": null,
   "metadata": {},
   "outputs": [
    {
     "name": "stdout",
     "output_type": "stream",
     "text": [
      "Converted 00_graphtools.ipynb.\n",
      "Converted 01_sampling.ipynb.\n",
      "Converted 02_metrics.ipynb.\n",
      "Converted 03_perturb.ipynb.\n",
      "Converted 04_plotting.ipynb.\n",
      "Converted 05_data.ipynb.\n",
      "Converted index.ipynb.\n"
     ]
    }
   ],
   "source": [
    "#hide\n",
    "from nbdev.export import notebook2script\n",
    "notebook2script()"
   ]
  }
 ],
 "metadata": {
  "kernelspec": {
   "display_name": "Python 3",
   "language": "python",
   "name": "python3"
  }
 },
 "nbformat": 4,
 "nbformat_minor": 4
}
