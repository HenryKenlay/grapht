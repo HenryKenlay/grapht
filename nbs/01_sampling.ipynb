{
 "cells": [
  {
   "cell_type": "code",
   "execution_count": null,
   "metadata": {},
   "outputs": [],
   "source": [
    "#hide\n",
    "%load_ext autoreload\n",
    "%autoreload 2"
   ]
  },
  {
   "cell_type": "code",
   "execution_count": null,
   "metadata": {},
   "outputs": [],
   "source": [
    "# default_exp sampling"
   ]
  },
  {
   "cell_type": "markdown",
   "metadata": {},
   "source": [
    "# Sampling\n",
    "\n",
    "> Functions which sample nodes or edges in graphs"
   ]
  },
  {
   "cell_type": "code",
   "execution_count": null,
   "metadata": {},
   "outputs": [],
   "source": [
    "#export \n",
    "from nbdev.showdoc import *\n",
    "import numpy as np\n",
    "import networkx as nx\n",
    "from grapht.graphtools import non_pendant_edges"
   ]
  },
  {
   "cell_type": "markdown",
   "metadata": {},
   "source": [
    "## Node sampling"
   ]
  },
  {
   "cell_type": "code",
   "execution_count": null,
   "metadata": {},
   "outputs": [],
   "source": [
    "#export\n",
    "def sample_nodes(G, num_nodes=1):\n",
    "    \"\"\"Uniformly samples `num_nodes` nodes.\"\"\"\n",
    "    nodes = G.nodes()\n",
    "    return np.random.choice(list(nodes), num_nodes, replace=False)"
   ]
  },
  {
   "cell_type": "code",
   "execution_count": null,
   "metadata": {},
   "outputs": [],
   "source": [
    "#export\n",
    "def khop_neighbourhood(G, node, k):\n",
    "    \"\"\"Returns the k-hop neighbourhood of `node`.\"\"\"\n",
    "    nodes = set([node])\n",
    "    for _ in range(k):\n",
    "        nodes = dilate(G, nodes)\n",
    "    return nodes\n",
    "\n",
    "def dilate(G, nodes):\n",
    "    \"\"\"The union of the neighbourhood of all `nodes`.\n",
    "    \n",
    "    Args:\n",
    "        G: A networkx graph.\n",
    "        nodes: A set of nodes, all elements must be contained in G.nodes().\n",
    "        \n",
    "    Returns:\n",
    "        A set containing the dilation of the nodes.\n",
    "    \"\"\"\n",
    "    dilation = nodes.copy()\n",
    "    for node in nodes:\n",
    "        for neighbour in G.neighbors(node):\n",
    "            dilation.add(neighbour)\n",
    "    return dilation"
   ]
  },
  {
   "cell_type": "markdown",
   "metadata": {},
   "source": [
    "## Edge sampling\n"
   ]
  },
  {
   "cell_type": "code",
   "execution_count": null,
   "metadata": {},
   "outputs": [],
   "source": [
    "#export\n",
    "def sample_edges(G, r, non_pendant=False):\n",
    "    \"\"\"Samples `r` edges from `G`.\n",
    "    \n",
    "    Args:\n",
    "        G: \n",
    "        r: \n",
    "        non_pendant: \n",
    "    \n",
    "    Returns:\n",
    "        \n",
    "    \"\"\"\n",
    "    if non_pendant:\n",
    "        edges = non_pendant_edges(G)\n",
    "    else:\n",
    "        edges = list(G.edges)\n",
    "    return [edges[i] for i in np.random.choice(range(len(edges)), r, replace=False)]"
   ]
  },
  {
   "cell_type": "markdown",
   "metadata": {},
   "source": [
    "## Subgraph sampling"
   ]
  },
  {
   "cell_type": "code",
   "execution_count": null,
   "metadata": {},
   "outputs": [],
   "source": [
    "#export \n",
    "def khop_subgraph(G, k, node=None):\n",
    "    \"\"\"Returns a subgraph of `G` which is the k-hop neighbourhood of some `node`\"\"\"\n",
    "    if node is None:\n",
    "        node = sample_node(G)\n",
    "    khop = khop_neighbourhood(G, node, k)\n",
    "    return G.subgraph(khop), node"
   ]
  },
  {
   "cell_type": "code",
   "execution_count": null,
   "metadata": {},
   "outputs": [
    {
     "name": "stdout",
     "output_type": "stream",
     "text": [
      "Converted 00_graphtools.ipynb.\n",
      "Converted 01_sampling.ipynb.\n",
      "Converted 02_metrics.ipynb.\n",
      "Converted 03_perturb.ipynb.\n",
      "Converted 04_plotting.ipynb.\n",
      "Converted 05_data.ipynb.\n",
      "Converted index.ipynb.\n"
     ]
    }
   ],
   "source": [
    "#hide\n",
    "from nbdev.export import notebook2script\n",
    "notebook2script()"
   ]
  }
 ],
 "metadata": {
  "kernelspec": {
   "display_name": "Python 3",
   "language": "python",
   "name": "python3"
  }
 },
 "nbformat": 4,
 "nbformat_minor": 4
}
