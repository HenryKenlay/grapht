{
 "cells": [
  {
   "cell_type": "code",
   "execution_count": null,
   "metadata": {},
   "outputs": [],
   "source": [
    "#hide\n",
    "%load_ext autoreload\n",
    "%autoreload 2"
   ]
  },
  {
   "cell_type": "code",
   "execution_count": null,
   "metadata": {},
   "outputs": [],
   "source": [
    "# default_exp sampling"
   ]
  },
  {
   "cell_type": "markdown",
   "metadata": {},
   "source": [
    "# Sampling\n",
    "\n",
    "> Functions which sample nodes or edges in graphs"
   ]
  },
  {
   "cell_type": "code",
   "execution_count": null,
   "metadata": {},
   "outputs": [],
   "source": [
    "#export \n",
    "from nbdev.showdoc import *\n",
    "import numpy as np\n",
    "import networkx as nx\n",
    "from grapht.graphtools import non_pendant_edges"
   ]
  },
  {
   "cell_type": "markdown",
   "metadata": {},
   "source": [
    "## Node sampling"
   ]
  },
  {
   "cell_type": "code",
   "execution_count": null,
   "metadata": {},
   "outputs": [],
   "source": [
    "#export\n",
    "def sample_node(G):\n",
    "    \"\"\"Uniformly samples a single node from G.\"\"\"\n",
    "    return int(np.random.choice(list(G.nodes())))\n",
    "\n",
    "def sample_nodes(G, num_nodes=1):\n",
    "    \"\"\"Uniformly samples `num_nodes` nodes.\n",
    "    \n",
    "    Nodes are sampled uniformly at random without replacement and returned in a list.\n",
    "    \"\"\"\n",
    "    nodes = G.nodes()\n",
    "    return list(np.random.choice(list(nodes), num_nodes, replace=False))"
   ]
  },
  {
   "cell_type": "markdown",
   "metadata": {},
   "source": [
    "## Edge sampling\n"
   ]
  },
  {
   "cell_type": "code",
   "execution_count": null,
   "metadata": {},
   "outputs": [],
   "source": [
    "#export\n",
    "def sample_edges(G, r, non_pendant=False):\n",
    "    \"\"\"Samples `r` edges from `G`.\n",
    "    \n",
    "    Edges are sampled uniformly at random without replacement and returned as a list.\n",
    "    \n",
    "    If `non_pendant` is `True` then pendant edges will not be sampled.\n",
    "    \"\"\"\n",
    "    if non_pendant:\n",
    "        edges = non_pendant_edges(G)\n",
    "    else:\n",
    "        edges = list(G.edges)\n",
    "    return [edges[i] for i in np.random.choice(range(len(edges)), r, replace=False)]"
   ]
  },
  {
   "cell_type": "markdown",
   "metadata": {},
   "source": [
    "## Subgraph sampling"
   ]
  },
  {
   "cell_type": "code",
   "execution_count": null,
   "metadata": {},
   "outputs": [],
   "source": [
    "#export \n",
    "def khop_subgraph(G, k, node=None):\n",
    "    \"\"\"Returns a subgraph of `G` which is the k-hop neighbourhood of some `node`.\n",
    "    \n",
    "    If `node=None` then a node is randomly sampled.\n",
    "    \"\"\"\n",
    "    if node is None:\n",
    "        node = sample_node(G)\n",
    "    khop = khop_neighbourhood(G, k, node)\n",
    "    return G.subgraph(khop), node\n",
    "\n",
    "def khop_neighbourhood(G, k, node):\n",
    "    \"\"\"Returns the k-hop neighbourhood of `node`.\"\"\"\n",
    "    return list(nx.single_source_shortest_path_length(G, node, cutoff=k).keys())"
   ]
  },
  {
   "cell_type": "code",
   "execution_count": null,
   "metadata": {},
   "outputs": [
    {
     "name": "stdout",
     "output_type": "stream",
     "text": [
      "Converted 00_graphtools.ipynb.\n",
      "Converted 01_sampling.ipynb.\n",
      "Converted 02_metrics.ipynb.\n",
      "Converted 03_perturb.ipynb.\n",
      "Converted 04_plotting.ipynb.\n",
      "Converted 05_data.ipynb.\n",
      "Converted index.ipynb.\n"
     ]
    }
   ],
   "source": [
    "#hide\n",
    "from nbdev.export import notebook2script\n",
    "notebook2script()"
   ]
  }
 ],
 "metadata": {
  "kernelspec": {
   "display_name": "Python 3",
   "language": "python",
   "name": "python3"
  }
 },
 "nbformat": 4,
 "nbformat_minor": 4
}
