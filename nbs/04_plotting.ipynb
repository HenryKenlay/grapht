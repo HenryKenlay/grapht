{
 "cells": [
  {
   "cell_type": "code",
   "execution_count": null,
   "metadata": {},
   "outputs": [],
   "source": [
    "#hide\n",
    "%load_ext autoreload\n",
    "%autoreload 2\n",
    "%matplotlib inline"
   ]
  },
  {
   "cell_type": "code",
   "execution_count": null,
   "metadata": {},
   "outputs": [],
   "source": [
    "# default_exp plotting"
   ]
  },
  {
   "cell_type": "markdown",
   "metadata": {},
   "source": [
    "# Plotting\n",
    "\n",
    "> Plotting utilities"
   ]
  },
  {
   "cell_type": "code",
   "execution_count": null,
   "metadata": {},
   "outputs": [],
   "source": [
    "#export\n",
    "from nbdev.showdoc import *\n",
    "import matplotlib.pyplot as plt\n",
    "import networkx as nx\n",
    "import numpy as np\n",
    "import pandas as pd\n",
    "import seaborn as sns\n",
    "import pyintergraph"
   ]
  },
  {
   "cell_type": "code",
   "execution_count": null,
   "metadata": {},
   "outputs": [],
   "source": [
    "#export\n",
    "def highlight_edges(G, edges, pos=None, node_size=300, ax=None):\n",
    "    \"\"\"Draws the graph G with edges in `edges` drawn in red, the ax object is returned.\"\"\"\n",
    "    if pos is None:\n",
    "        pos = nx.spring_layout(G)\n",
    "    if ax is None:\n",
    "        _, ax = plt.subplots()\n",
    "    nx.draw_networkx_nodes(G, pos=pos, node_size=10, ax=ax)\n",
    "    nx.draw_networkx_edges(G, pos=pos, edgelist=set(G.edges()) - set(edges), ax=ax)\n",
    "    nx.draw_networkx_edges(G, pos=pos, edgelist=edges, ax=ax, edge_color='red')\n",
    "    ax.get_xaxis().set_visible(False)\n",
    "    ax.get_yaxis().set_visible(False)\n",
    "    return ax"
   ]
  },
  {
   "cell_type": "code",
   "execution_count": null,
   "metadata": {},
   "outputs": [],
   "source": [
    "#export\n",
    "def heatmap(df, x, y, hue, xbins=15, ybins=15, xlim=None, ylim=None, vlim=None, bin_numbers=False, bin_cutoff=1, rounding=3, ax=None, cbar=True, estimator='mean', square=False, robust=False):\n",
    "    \"\"\"Plots a heatmap binning the df data based on columns x and y.\"\"\"\n",
    "    df = df.copy()\n",
    "    if ax is None:\n",
    "        fig, ax = plt.subplots()\n",
    "    if xlim is None:\n",
    "        xlim = (df[x].min(), df[x].max())\n",
    "    if ylim is None:\n",
    "        ylim = (df[y].min(), df[y].max())\n",
    "\n",
    "    xstep = (xlim[1]-xlim[0])/xbins\n",
    "    xbins = np.arange(xlim[0], xlim[1]+xstep, xstep)\n",
    "    df[x] = pd.cut(df[x], xbins).map(lambda x : x.mid)\n",
    "\n",
    "    ystep = (ylim[1]-ylim[0])/ybins\n",
    "    ybins = np.arange(ylim[0], ylim[1]+ystep, ystep)[:-1]\n",
    "    df[y] = pd.cut(df[y], ybins).map(lambda y : y.mid)\n",
    "    \n",
    "    if estimator == 'mean':\n",
    "        heatmap_data = df.groupby([x, y]).mean()[hue].reset_index()\n",
    "    elif estimator == 'median':\n",
    "        heatmap_data = df.groupby([x, y]).median()[hue].reset_index()\n",
    "    heatmap_data = heatmap_data.pivot(y, x, hue)\n",
    "\n",
    "    heatmap_count = df.groupby([x, y]).count()[hue].reset_index()\n",
    "    heatmap_count = heatmap_count.pivot(y, x, hue)\n",
    "    mask = heatmap_count < bin_cutoff\n",
    "    heatmap_count = heatmap_count.fillna(0).astype(int)\n",
    "    annot = heatmap_count if bin_numbers else None\n",
    "    \n",
    "    if vlim is None: vlim = (None, None) \n",
    "    sns.heatmap(heatmap_data, ax = ax, cmap=\"YlGnBu\", mask=mask, annot=annot, vmin=vlim[0], vmax=vlim[1], cbar = cbar, fmt='d', square=square, robust=robust)\n",
    "    ax.set_xticklabels([round(float(item.get_text()), rounding) for item in ax.get_xticklabels()])\n",
    "    ax.set_yticklabels([round(float(item.get_text()), rounding) for item in ax.get_yticklabels()])\n",
    "    return ax"
   ]
  },
  {
   "cell_type": "markdown",
   "metadata": {},
   "source": [
    "## Helper functions"
   ]
  },
  {
   "cell_type": "code",
   "execution_count": null,
   "metadata": {},
   "outputs": [
    {
     "name": "stdout",
     "output_type": "stream",
     "text": [
      "Converted 00_graphtools.ipynb.\n",
      "Converted 01_sampling.ipynb.\n",
      "Converted 02_metrics.ipynb.\n",
      "Converted 03_perturb.ipynb.\n",
      "Converted 04_plotting.ipynb.\n",
      "Converted 05_data.ipynb.\n",
      "Converted index.ipynb.\n"
     ]
    }
   ],
   "source": [
    "#hide\n",
    "from nbdev.export import notebook2script\n",
    "notebook2script()"
   ]
  }
 ],
 "metadata": {
  "kernelspec": {
   "display_name": "Python 3",
   "language": "python",
   "name": "python3"
  }
 },
 "nbformat": 4,
 "nbformat_minor": 4
}
