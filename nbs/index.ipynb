{
 "cells": [
  {
   "cell_type": "markdown",
   "metadata": {},
   "source": [
    "# Grapht\n",
    "\n",
    "> Tools to help me with my DPhil"
   ]
  },
  {
   "cell_type": "markdown",
   "metadata": {},
   "source": [
    "A collection of tools for my research focused on GSP"
   ]
  },
  {
   "cell_type": "markdown",
   "metadata": {},
   "source": [
    "## Install"
   ]
  },
  {
   "cell_type": "markdown",
   "metadata": {},
   "source": [
    "`pip install git+git://github.com/HenryKenlay/grapht/grapht.git`"
   ]
  },
  {
   "cell_type": "markdown",
   "metadata": {},
   "source": [
    "## Documentation"
   ]
  },
  {
   "cell_type": "markdown",
   "metadata": {},
   "source": [
    "https://henrykenlay.github.io/grapht"
   ]
  },
  {
   "cell_type": "markdown",
   "metadata": {},
   "source": [
    "# Todo\n",
    "- CI pass\n",
    "  - Add gnn-bench dependency\n",
    "  - Add graph_tool dependency\n",
    "- Change CoraGraph to BenchGNNGraph\n",
    "- Fix figure in perturb documentation\n",
    "- Hide helper functions from docs\n",
    "- Add consistent documentation \n",
    "- Push reasonable state version to pypi "
   ]
  }
 ],
 "metadata": {
  "kernelspec": {
   "display_name": "Python 3",
   "language": "python",
   "name": "python3"
  }
 },
 "nbformat": 4,
 "nbformat_minor": 4
}
