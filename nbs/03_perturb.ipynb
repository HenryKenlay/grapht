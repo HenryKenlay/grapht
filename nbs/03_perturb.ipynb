{
 "cells": [
  {
   "cell_type": "code",
   "execution_count": null,
   "metadata": {},
   "outputs": [],
   "source": [
    "#hide\n",
    "%load_ext autoreload\n",
    "%autoreload 2\n",
    "%matplotlib inline"
   ]
  },
  {
   "cell_type": "code",
   "execution_count": null,
   "metadata": {},
   "outputs": [],
   "source": [
    "# default_exp perturb"
   ]
  },
  {
   "cell_type": "markdown",
   "metadata": {},
   "source": [
    "# Perturb\n",
    "\n",
    "> Functions for perturbing a graph "
   ]
  },
  {
   "cell_type": "markdown",
   "metadata": {},
   "source": [
    "## Edge deletions"
   ]
  },
  {
   "cell_type": "code",
   "execution_count": null,
   "metadata": {},
   "outputs": [],
   "source": [
    "#export \n",
    "from nbdev.showdoc import *\n",
    "import networkx as nx\n",
    "import numpy as np\n",
    "import pandas as pd\n",
    "from grapht.graphtools import non_pendant_edges, has_isolated_nodes\n",
    "from grapht.sampling import khop_subgraph, sample_edges"
   ]
  },
  {
   "cell_type": "code",
   "execution_count": null,
   "metadata": {},
   "outputs": [],
   "source": [
    "#export \n",
    "def khop_remove(G, k, r, max_iter=100):\n",
    "    \"\"\"Removes r edges which are in a k-hop neighbourhood of some node, the perturbed graph will not have isolated nodes.\n",
    "    \n",
    "    If k is None then the samples are taken uniformly.\n",
    "    \n",
    "    This operation is attempted `max_iter` times, if no solution is found then `None` is returned.\n",
    "    \n",
    "    Returns:\n",
    "        solution: a perturbed graph\n",
    "        edges: a list of edges which were removed\n",
    "        node: the node which the k-hop neighbourhood was taken around\n",
    "    \"\"\"\n",
    "    solution = None\n",
    "    for _ in range(max_iter):\n",
    "        if k is not None:\n",
    "            subgraph, node = khop_subgraph(G, k) \n",
    "        else:\n",
    "            subgraph, node = G, None\n",
    "        if len(non_pendant_edges(subgraph)) < r:\n",
    "            continue\n",
    "        edges = sample_edges(subgraph, r, non_pendant=True)\n",
    "        Gp = G.copy()\n",
    "        Gp.remove_edges_from(edges)\n",
    "        if not has_isolated_nodes(Gp):\n",
    "            solution = Gp\n",
    "            break\n",
    "    if solution is None:\n",
    "        return None\n",
    "    else:\n",
    "        edge_info = pd.DataFrame(edges, columns=['u', 'v'])\n",
    "        edge_info['type'] = 'remove'\n",
    "        return solution, edge_info, node"
   ]
  },
  {
   "cell_type": "markdown",
   "metadata": {},
   "source": [
    "## Rewiring"
   ]
  },
  {
   "cell_type": "code",
   "execution_count": null,
   "metadata": {},
   "outputs": [],
   "source": [
    "#export\n",
    "def khop_rewire(G, k, r, max_iter=100):\n",
    "    \"\"\"Rewire the graph in place where edges which are rewired are in a k-hop neighbourhood.\n",
    "    \n",
    "    A random k-hop neighbourhood is selected in G and r edges are rewired. \n",
    "    \n",
    "    If the graph contains an isolated node this procedure is repeated.\n",
    "    \n",
    "    If `max_iter` attempted do not give a graph without isolated nodes `None` is returned.\n",
    "    \n",
    "    Returns:\n",
    "        solution (nx.Graph): the rewired graph\n",
    "        rewire_info (pd.DataFrame): a dataframe describing which edges were added or removed\n",
    "        node: The node from which the k-hop neighbourhood was taken around\n",
    "    \"\"\"\n",
    "    solution = None\n",
    "    for _ in range(max_iter):\n",
    "        if k is not None:\n",
    "            subgraph, node = khop_subgraph(G, k)\n",
    "        else:\n",
    "            subgraph, node = G, None\n",
    "        if len(subgraph.edges()) < r:\n",
    "            continue\n",
    "        edges = sample_edges(subgraph, r, non_pendant=False)\n",
    "        Gp = G.copy()\n",
    "        rewire_info = rewire(Gp, edges)\n",
    "        if not has_isolated_nodes(Gp):\n",
    "            solution = Gp\n",
    "    if solution is None:\n",
    "        return None\n",
    "    else:\n",
    "        return solution, rewire_info, node \n",
    "        \n",
    "def rewire(G, edges):\n",
    "    \"\"\"Rewires `edges` in `G` inplace and returns a dataframe with the edges which were added or removed. \n",
    "    \n",
    "    All edges are broken into stubs and then stubs are randomly joined together.\n",
    "    \n",
    "    Self loops are removed after the rewiring step.\n",
    "    \n",
    "    A dataframe is returned where each row is (u, v, 'add') or (u, v, 'remove'). \n",
    "    \n",
    "    The dataframe will include entries (u, u, 'add') if self loops were added but these won't appear in the graph.\n",
    "    \"\"\"\n",
    "    edges = np.array(edges)\n",
    "    new_edges = np.reshape(np.random.permutation(edges.flatten()), (-1, 2))\n",
    "    G.remove_edges_from(edges.tolist())\n",
    "    G.add_edges_from(new_edges.tolist())\n",
    "    G.remove_edges_from(nx.selfloop_edges(G))\n",
    "    df_remove = pd.DataFrame(edges, columns = ['u', 'v'])\n",
    "    df_remove['type'] = 'remove'\n",
    "    df_add = pd.DataFrame(new_edges, columns = ['u', 'v'])\n",
    "    df_add['type'] = 'add'\n",
    "    return pd.concat([df_remove, df_add], ignore_index=True)"
   ]
  },
  {
   "cell_type": "code",
   "execution_count": null,
   "metadata": {},
   "outputs": [
    {
     "name": "stdout",
     "output_type": "stream",
     "text": [
      "Converted 00_graphtools.ipynb.\n",
      "Converted 01_sampling.ipynb.\n",
      "Converted 02_metrics.ipynb.\n",
      "Converted 03_perturb.ipynb.\n",
      "Converted 04_plotting.ipynb.\n",
      "Converted 05_data.ipynb.\n",
      "Converted index.ipynb.\n"
     ]
    }
   ],
   "source": [
    "#hide\n",
    "from nbdev.export import notebook2script\n",
    "notebook2script()"
   ]
  }
 ],
 "metadata": {
  "kernelspec": {
   "display_name": "Python 3",
   "language": "python",
   "name": "python3"
  }
 },
 "nbformat": 4,
 "nbformat_minor": 4
}
